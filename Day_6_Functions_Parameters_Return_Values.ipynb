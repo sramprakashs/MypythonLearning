{
  "nbformat": 4,
  "nbformat_minor": 0,
  "metadata": {
    "colab": {
      "provenance": [],
      "authorship_tag": "ABX9TyPV9Sb9kOaQbAG3IPnMqmuU",
      "include_colab_link": true
    },
    "kernelspec": {
      "name": "python3",
      "display_name": "Python 3"
    },
    "language_info": {
      "name": "python"
    }
  },
  "cells": [
    {
      "cell_type": "markdown",
      "metadata": {
        "id": "view-in-github",
        "colab_type": "text"
      },
      "source": [
        "<a href=\"https://colab.research.google.com/github/sramprakashs/MypythonLearning/blob/main/Day_6_Functions_Parameters_Return_Values.ipynb\" target=\"_parent\"><img src=\"https://colab.research.google.com/assets/colab-badge.svg\" alt=\"Open In Colab\"/></a>"
      ]
    },
    {
      "cell_type": "code",
      "execution_count": 4,
      "metadata": {
        "id": "7rUPflLRL_cQ"
      },
      "outputs": [],
      "source": [
        "def add(x, y):\n",
        "    return x + y\n",
        "\n",
        "def subtract(x, y):\n",
        "    return x - y\n",
        "\n",
        "def multiply(x, y):\n",
        "    return x * y\n",
        "\n",
        "def divide(x, y):\n",
        "    if y != 0:\n",
        "        return x / y\n",
        "    else:\n",
        "        return \"❌ Cannot divide by zero\"\n"
      ]
    },
    {
      "cell_type": "code",
      "source": [
        "print(\"📌 Select operation:\")\n",
        "print(\"1. Add\")\n",
        "print(\"2. Subtract\")\n",
        "print(\"3. Multiply\")\n",
        "print(\"4. Divide\")\n",
        "\n",
        "choice = input(\"Enter choice (1/2/3/4): \")\n",
        "\n",
        "num1 = float(input(\"Enter first number: \"))\n",
        "num2 = float(input(\"Enter second number: \"))\n",
        "\n",
        "if choice == '1':\n",
        "    print(f\"Result: {add(num1, num2)}\")\n",
        "elif choice == '2':\n",
        "    print(f\"Result: {subtract(num1, num2)}\")\n",
        "elif choice == '3':\n",
        "    print(f\"Result: {multiply(num1, num2)}\")\n",
        "elif choice == '4':\n",
        "    print(f\"Result: {divide(num1, num2)}\")\n",
        "else:\n",
        "    print(\"❌ Invalid choice\")\n"
      ],
      "metadata": {
        "colab": {
          "base_uri": "https://localhost:8080/"
        },
        "id": "MNk-Z-BSY9yC",
        "outputId": "876e22d1-df4c-4db6-bec5-b50ff4ad0385"
      },
      "execution_count": 3,
      "outputs": [
        {
          "output_type": "stream",
          "name": "stdout",
          "text": [
            "📌 Select operation:\n",
            "1. Add\n",
            "2. Subtract\n",
            "3. Multiply\n",
            "4. Divide\n",
            "Enter choice (1/2/3/4): 1\n",
            "Enter first number: 2\n",
            "Enter second number: 3\n",
            "Result: 5.0\n"
          ]
        }
      ]
    },
    {
      "cell_type": "code",
      "source": [
        "def add(x, y):\n",
        "    return x + y\n",
        "\n",
        "def subtract(x, y):\n",
        "    return x - y\n",
        "\n",
        "def multiply(x, y):\n",
        "    return x * y\n",
        "\n",
        "def divide(x, y):\n",
        "    if y != 0:\n",
        "        return x / y\n",
        "    else:\n",
        "        return \"❌ Cannot divide by zero\"\n",
        "\n",
        "print(\"📌 Select operation:\")\n",
        "print(\"1. Add\")\n",
        "print(\"2. Subtract\")\n",
        "print(\"3. Multiply\")\n",
        "print(\"4. Divide\")\n",
        "\n",
        "choice = input(\"Enter choice (1/2/3/4): \")\n",
        "\n",
        "num1 = float(input(\"Enter first number: \"))\n",
        "num2 = float(input(\"Enter second number: \"))\n",
        "\n",
        "if choice == '1':\n",
        "    print(f\"Result: {add(num1, num2)}\")\n",
        "elif choice == '2':\n",
        "    print(f\"Result: {subtract(num1, num2)}\")\n",
        "elif choice == '3':\n",
        "    print(f\"Result: {multiply(num1, num2)}\")\n",
        "elif choice == '4':\n",
        "    print(f\"Result: {divide(num1, num2)}\")\n",
        "else:\n",
        "    print(\"❌ Invalid choice\")\n"
      ],
      "metadata": {
        "colab": {
          "base_uri": "https://localhost:8080/"
        },
        "id": "1VwHP7XVZTm0",
        "outputId": "85da4e1c-5565-416d-8d68-083dd9354f86"
      },
      "execution_count": 5,
      "outputs": [
        {
          "output_type": "stream",
          "name": "stdout",
          "text": [
            "📌 Select operation:\n",
            "1. Add\n",
            "2. Subtract\n",
            "3. Multiply\n",
            "4. Divide\n",
            "Enter choice (1/2/3/4): 3\n",
            "Enter first number: 3\n",
            "Enter second number: 6\n",
            "Result: 18.0\n"
          ]
        }
      ]
    }
  ]
}