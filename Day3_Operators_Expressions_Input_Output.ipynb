{
  "nbformat": 4,
  "nbformat_minor": 0,
  "metadata": {
    "colab": {
      "provenance": [],
      "authorship_tag": "ABX9TyPehmOEa28T/t3ZPSQiLWWn",
      "include_colab_link": true
    },
    "kernelspec": {
      "name": "python3",
      "display_name": "Python 3"
    },
    "language_info": {
      "name": "python"
    }
  },
  "cells": [
    {
      "cell_type": "markdown",
      "metadata": {
        "id": "view-in-github",
        "colab_type": "text"
      },
      "source": [
        "<a href=\"https://colab.research.google.com/github/sramprakashs/MypythonLearning/blob/main/Day3_Operators_Expressions_Input_Output.ipynb\" target=\"_parent\"><img src=\"https://colab.research.google.com/assets/colab-badge.svg\" alt=\"Open In Colab\"/></a>"
      ]
    },
    {
      "cell_type": "code",
      "execution_count": 1,
      "metadata": {
        "colab": {
          "base_uri": "https://localhost:8080/"
        },
        "id": "pPx1nnNBT_i_",
        "outputId": "1149c1fb-70ea-4862-daed-2b6e148c7e55"
      },
      "outputs": [
        {
          "output_type": "stream",
          "name": "stdout",
          "text": [
            "Enter the principal amount: ₹ 100000\n",
            "Enter the rate of interest (%): 6\n",
            "Enter the time period (in years): 2\n",
            "\n",
            "Simple Interest = ₹ 12000.00\n"
          ]
        }
      ],
      "source": [
        "# Simple Interest Calculator\n",
        "\n",
        "# Take user input\n",
        "principal = float(input(\"Enter the principal amount: ₹ \"))\n",
        "rate = float(input(\"Enter the rate of interest (%): \"))\n",
        "time = float(input(\"Enter the time period (in years): \"))\n",
        "\n",
        "# Calculate simple interest\n",
        "simple_interest = (principal * rate * time) / 100\n",
        "\n",
        "# Display the result\n",
        "print(f\"\\nSimple Interest = ₹ {simple_interest:.2f}\")\n"
      ]
    },
    {
      "cell_type": "code",
      "source": [
        "a = 10\n",
        "b = 5\n",
        "print(a - b)  # Output: 5"
      ],
      "metadata": {
        "colab": {
          "base_uri": "https://localhost:8080/"
        },
        "id": "rpV3d_9HeUNX",
        "outputId": "0ba5020b-aff8-4c18-8432-722811c55437"
      },
      "execution_count": 2,
      "outputs": [
        {
          "output_type": "stream",
          "name": "stdout",
          "text": [
            "5\n"
          ]
        }
      ]
    },
    {
      "cell_type": "code",
      "source": [
        "a = 10\n",
        "b = 5\n",
        "print(a * b)  # Output: 50"
      ],
      "metadata": {
        "colab": {
          "base_uri": "https://localhost:8080/"
        },
        "id": "wA0J6MwfeX9D",
        "outputId": "de56f840-061e-4a82-8bf3-b62ae1f8f1e2"
      },
      "execution_count": 3,
      "outputs": [
        {
          "output_type": "stream",
          "name": "stdout",
          "text": [
            "50\n"
          ]
        }
      ]
    },
    {
      "cell_type": "code",
      "source": [
        "a = 10\n",
        "b = 5\n",
        "print(a / b)  # Output: 2.0"
      ],
      "metadata": {
        "colab": {
          "base_uri": "https://localhost:8080/"
        },
        "id": "QZNNywPieaNF",
        "outputId": "ae95dbef-67c8-4416-8aa5-813192da47bb"
      },
      "execution_count": 4,
      "outputs": [
        {
          "output_type": "stream",
          "name": "stdout",
          "text": [
            "2.0\n"
          ]
        }
      ]
    },
    {
      "cell_type": "code",
      "source": [
        "a = 10\n",
        "b = 3\n",
        "print(a // b)  # Output: 3"
      ],
      "metadata": {
        "colab": {
          "base_uri": "https://localhost:8080/"
        },
        "id": "tWmKc2vYedrl",
        "outputId": "a882021b-fc97-4cec-897d-e4a5647715ce"
      },
      "execution_count": 5,
      "outputs": [
        {
          "output_type": "stream",
          "name": "stdout",
          "text": [
            "3\n"
          ]
        }
      ]
    },
    {
      "cell_type": "code",
      "source": [
        "a = 10\n",
        "b = 3\n",
        "print(a % b)  # Output: 1"
      ],
      "metadata": {
        "colab": {
          "base_uri": "https://localhost:8080/"
        },
        "id": "DiEhehbRep9N",
        "outputId": "b76ebe44-af7d-483c-fef2-cd7a8dea1c78"
      },
      "execution_count": 6,
      "outputs": [
        {
          "output_type": "stream",
          "name": "stdout",
          "text": [
            "1\n"
          ]
        }
      ]
    },
    {
      "cell_type": "code",
      "source": [
        "a = 2\n",
        "b = 3\n",
        "print(a ** b)  # Output: 8"
      ],
      "metadata": {
        "colab": {
          "base_uri": "https://localhost:8080/"
        },
        "id": "sIntkKFCesty",
        "outputId": "855490a9-4c73-4d27-fc19-0e67bad6192b"
      },
      "execution_count": 7,
      "outputs": [
        {
          "output_type": "stream",
          "name": "stdout",
          "text": [
            "8\n"
          ]
        }
      ]
    },
    {
      "cell_type": "code",
      "source": [
        "x = 10\n",
        "print(x)  # Output: 10"
      ],
      "metadata": {
        "colab": {
          "base_uri": "https://localhost:8080/"
        },
        "id": "2BbMLEjon2cc",
        "outputId": "4390c67d-7ee4-4eff-9932-d69269147767"
      },
      "execution_count": 8,
      "outputs": [
        {
          "output_type": "stream",
          "name": "stdout",
          "text": [
            "10\n"
          ]
        }
      ]
    },
    {
      "cell_type": "code",
      "source": [
        "x = 10\n",
        "x += 5\n",
        "print(x)  # Output: 15\n"
      ],
      "metadata": {
        "colab": {
          "base_uri": "https://localhost:8080/"
        },
        "id": "RIWaaBf2n5Cw",
        "outputId": "60964d40-3b5d-41cf-878c-92cdd5332c28"
      },
      "execution_count": 9,
      "outputs": [
        {
          "output_type": "stream",
          "name": "stdout",
          "text": [
            "15\n"
          ]
        }
      ]
    },
    {
      "cell_type": "code",
      "source": [
        "x = 10\n",
        "x -= 3\n",
        "print(x)  # Output: 7\n"
      ],
      "metadata": {
        "colab": {
          "base_uri": "https://localhost:8080/"
        },
        "id": "p3o3ctPpn-Qv",
        "outputId": "26a9cc02-d7a0-42e6-8ecd-eb967044b24f"
      },
      "execution_count": 10,
      "outputs": [
        {
          "output_type": "stream",
          "name": "stdout",
          "text": [
            "7\n"
          ]
        }
      ]
    },
    {
      "cell_type": "code",
      "source": [
        "x = 10\n",
        "x -= 3\n",
        "print(x)  # Output: 7\n"
      ],
      "metadata": {
        "colab": {
          "base_uri": "https://localhost:8080/"
        },
        "id": "3_hXqYIHoVBB",
        "outputId": "5b533d37-493a-4c89-ae2d-7b778def327e"
      },
      "execution_count": 12,
      "outputs": [
        {
          "output_type": "stream",
          "name": "stdout",
          "text": [
            "7\n"
          ]
        }
      ]
    },
    {
      "cell_type": "code",
      "source": [
        "x = 4\n",
        "x *= 2\n",
        "print(x)  # Output: 8\n"
      ],
      "metadata": {
        "colab": {
          "base_uri": "https://localhost:8080/"
        },
        "id": "5sgOKt5Io_Jv",
        "outputId": "3d625c04-1f26-4c9a-ba35-42dd9d13d05d"
      },
      "execution_count": 13,
      "outputs": [
        {
          "output_type": "stream",
          "name": "stdout",
          "text": [
            "8\n"
          ]
        }
      ]
    },
    {
      "cell_type": "code",
      "source": [
        "x = 10\n",
        "x /= 2\n",
        "print(x)  # Output: 5.0\n"
      ],
      "metadata": {
        "colab": {
          "base_uri": "https://localhost:8080/"
        },
        "id": "-ppVWhrGpZ_U",
        "outputId": "29d0fb6a-c53c-46b7-fed4-cb4ee5f905b6"
      },
      "execution_count": 14,
      "outputs": [
        {
          "output_type": "stream",
          "name": "stdout",
          "text": [
            "5.0\n"
          ]
        }
      ]
    },
    {
      "cell_type": "code",
      "source": [
        "x = 10\n",
        "x //= 3\n",
        "print(x)  # Output: 3\n"
      ],
      "metadata": {
        "colab": {
          "base_uri": "https://localhost:8080/"
        },
        "id": "54jJljb1pcY0",
        "outputId": "15193c78-fb62-4059-cec6-8328a4a10814"
      },
      "execution_count": 15,
      "outputs": [
        {
          "output_type": "stream",
          "name": "stdout",
          "text": [
            "3\n"
          ]
        }
      ]
    },
    {
      "cell_type": "code",
      "source": [
        "x = 10\n",
        "x %= 3\n",
        "print(x)  # Output: 1\n"
      ],
      "metadata": {
        "colab": {
          "base_uri": "https://localhost:8080/"
        },
        "id": "yLzo-eSrpeoH",
        "outputId": "fd1c547a-877d-4048-912b-302ce0199891"
      },
      "execution_count": 16,
      "outputs": [
        {
          "output_type": "stream",
          "name": "stdout",
          "text": [
            "1\n"
          ]
        }
      ]
    },
    {
      "cell_type": "code",
      "source": [
        "x = 2\n",
        "x **= 3\n",
        "print(x)  # Output: 8\n"
      ],
      "metadata": {
        "colab": {
          "base_uri": "https://localhost:8080/"
        },
        "id": "EG_0n8-Mpf7k",
        "outputId": "fe65c439-7fd7-47e7-ed96-3d58f13b8a6f"
      },
      "execution_count": 17,
      "outputs": [
        {
          "output_type": "stream",
          "name": "stdout",
          "text": [
            "8\n"
          ]
        }
      ]
    },
    {
      "cell_type": "code",
      "source": [
        "x = 5\n",
        "y = 5\n",
        "print(x == y)  # True\n"
      ],
      "metadata": {
        "colab": {
          "base_uri": "https://localhost:8080/"
        },
        "id": "MtM8Z2qVp7Uk",
        "outputId": "7b105241-5fdb-4488-fa99-3d65954ee165"
      },
      "execution_count": 18,
      "outputs": [
        {
          "output_type": "stream",
          "name": "stdout",
          "text": [
            "True\n"
          ]
        }
      ]
    },
    {
      "cell_type": "code",
      "source": [
        "x = 5\n",
        "y = 3\n",
        "print(x != y)  # True\n"
      ],
      "metadata": {
        "colab": {
          "base_uri": "https://localhost:8080/"
        },
        "id": "713FIen8p9m1",
        "outputId": "19e9f462-5c67-4d62-dc5c-95d75ac61b78"
      },
      "execution_count": 19,
      "outputs": [
        {
          "output_type": "stream",
          "name": "stdout",
          "text": [
            "True\n"
          ]
        }
      ]
    },
    {
      "cell_type": "code",
      "source": [
        "x = 10\n",
        "y = 7\n",
        "print(x > y)  # True\n"
      ],
      "metadata": {
        "colab": {
          "base_uri": "https://localhost:8080/"
        },
        "id": "6lnKQ48Bp_L6",
        "outputId": "77c349d5-9512-4a3b-be21-029a1783a2df"
      },
      "execution_count": 20,
      "outputs": [
        {
          "output_type": "stream",
          "name": "stdout",
          "text": [
            "True\n"
          ]
        }
      ]
    },
    {
      "cell_type": "code",
      "source": [
        "x = 4\n",
        "y = 9\n",
        "print(x < y)  # True\n"
      ],
      "metadata": {
        "colab": {
          "base_uri": "https://localhost:8080/"
        },
        "id": "Tbl4QHHDqASb",
        "outputId": "a4c7bd92-dd22-4b83-f049-3ace6e5e8220"
      },
      "execution_count": 21,
      "outputs": [
        {
          "output_type": "stream",
          "name": "stdout",
          "text": [
            "True\n"
          ]
        }
      ]
    },
    {
      "cell_type": "code",
      "source": [
        "x = 6\n",
        "y = 6\n",
        "print(x >= y)  # True\n"
      ],
      "metadata": {
        "colab": {
          "base_uri": "https://localhost:8080/"
        },
        "id": "OLqGcyG0qBVF",
        "outputId": "9acc50cb-b381-467f-a3ee-165c244c3660"
      },
      "execution_count": 22,
      "outputs": [
        {
          "output_type": "stream",
          "name": "stdout",
          "text": [
            "True\n"
          ]
        }
      ]
    },
    {
      "cell_type": "code",
      "source": [
        "x = 3\n",
        "y = 5\n",
        "print(x <= y)  # True\n"
      ],
      "metadata": {
        "colab": {
          "base_uri": "https://localhost:8080/"
        },
        "id": "aSiPC8DPqCZ5",
        "outputId": "794a7f05-0603-4737-e1d8-ded374f19785"
      },
      "execution_count": 23,
      "outputs": [
        {
          "output_type": "stream",
          "name": "stdout",
          "text": [
            "True\n"
          ]
        }
      ]
    },
    {
      "cell_type": "code",
      "source": [
        "x = 5\n",
        "y = 10\n",
        "\n",
        "if x > 0 and y > 0:\n",
        "    print(\"✅ Both numbers are positive.\")\n"
      ],
      "metadata": {
        "colab": {
          "base_uri": "https://localhost:8080/"
        },
        "id": "qLmHoleEqPyP",
        "outputId": "9c928fff-5b7d-418b-8a11-74b0d3b0f35f"
      },
      "execution_count": 24,
      "outputs": [
        {
          "output_type": "stream",
          "name": "stdout",
          "text": [
            "✅ Both numbers are positive.\n"
          ]
        }
      ]
    },
    {
      "cell_type": "code",
      "source": [
        "x = -5\n",
        "y = 10\n",
        "\n",
        "if x > 0 or y > 0:\n",
        "    print(\"✅ At least one number is positive.\")\n"
      ],
      "metadata": {
        "colab": {
          "base_uri": "https://localhost:8080/"
        },
        "id": "3SZBn-RUqRZk",
        "outputId": "c6ce7d05-2a8f-4d4d-cd0b-c027a2cb811a"
      },
      "execution_count": 25,
      "outputs": [
        {
          "output_type": "stream",
          "name": "stdout",
          "text": [
            "✅ At least one number is positive.\n"
          ]
        }
      ]
    },
    {
      "cell_type": "code",
      "source": [
        "is_raining = False\n",
        "\n",
        "if not is_raining:\n",
        "    print(\"☀️ It's not raining. You can go outside!\")\n"
      ],
      "metadata": {
        "colab": {
          "base_uri": "https://localhost:8080/"
        },
        "id": "_4cLjtXZqVM1",
        "outputId": "234f84ea-a7ae-4a41-d86f-66071e4ae363"
      },
      "execution_count": 26,
      "outputs": [
        {
          "output_type": "stream",
          "name": "stdout",
          "text": [
            "☀️ It's not raining. You can go outside!\n"
          ]
        }
      ]
    },
    {
      "cell_type": "code",
      "source": [
        "a = 5      # 0101\n",
        "b = 3      # 0011\n",
        "print(a & b)  # Output: 1 (0001)\n"
      ],
      "metadata": {
        "colab": {
          "base_uri": "https://localhost:8080/"
        },
        "id": "6NPSe1VmqpHZ",
        "outputId": "7823e181-bf79-47d7-e755-18fc68124ef7"
      },
      "execution_count": 27,
      "outputs": [
        {
          "output_type": "stream",
          "name": "stdout",
          "text": [
            "1\n"
          ]
        }
      ]
    },
    {
      "cell_type": "markdown",
      "source": [],
      "metadata": {
        "id": "VxkIRLarqqo-"
      }
    },
    {
      "cell_type": "code",
      "source": [
        "a = 5      # 0101\n",
        "b = 3      # 0011\n",
        "print(a | b)  # Output: 7 (0111)\n"
      ],
      "metadata": {
        "colab": {
          "base_uri": "https://localhost:8080/"
        },
        "id": "_Lrz2Zaxqrhl",
        "outputId": "15d410a7-332d-4302-95ad-dade389ffd35"
      },
      "execution_count": 28,
      "outputs": [
        {
          "output_type": "stream",
          "name": "stdout",
          "text": [
            "7\n"
          ]
        }
      ]
    },
    {
      "cell_type": "code",
      "source": [
        "a = 5      # 0101\n",
        "b = 3      # 0011\n",
        "print(a ^ b)  # Output: 6 (0110)\n"
      ],
      "metadata": {
        "colab": {
          "base_uri": "https://localhost:8080/"
        },
        "id": "EFPTLY-eqsr2",
        "outputId": "d249b523-7d2d-4d1e-cd80-b95cbd53f027"
      },
      "execution_count": 30,
      "outputs": [
        {
          "output_type": "stream",
          "name": "stdout",
          "text": [
            "6\n"
          ]
        }
      ]
    },
    {
      "cell_type": "code",
      "source": [
        "a = 5      # 0101\n",
        "b = 3      # 0011\n",
        "print(a & b)  # Output: 1 (0001)\n"
      ],
      "metadata": {
        "colab": {
          "base_uri": "https://localhost:8080/"
        },
        "id": "PV4xg7pPrM5n",
        "outputId": "ebeace1f-556d-48b0-977b-8778080fb969"
      },
      "execution_count": 31,
      "outputs": [
        {
          "output_type": "stream",
          "name": "stdout",
          "text": [
            "1\n"
          ]
        }
      ]
    },
    {
      "cell_type": "code",
      "source": [
        "a = 5      # 0101\n",
        "b = 3      # 0011\n",
        "print(a | b)  # Output: 7 (0111)\n"
      ],
      "metadata": {
        "colab": {
          "base_uri": "https://localhost:8080/"
        },
        "id": "oZiw6IfTrO8e",
        "outputId": "cde13809-7431-4d92-9459-696fa09eaab2"
      },
      "execution_count": 32,
      "outputs": [
        {
          "output_type": "stream",
          "name": "stdout",
          "text": [
            "7\n"
          ]
        }
      ]
    },
    {
      "cell_type": "code",
      "source": [
        "a = 5      # 0101\n",
        "b = 3      # 0011\n",
        "print(a ^ b)  # Output: 6 (0110)\n"
      ],
      "metadata": {
        "colab": {
          "base_uri": "https://localhost:8080/"
        },
        "id": "oS7-Jy_crQpo",
        "outputId": "49d2a1e5-7b90-4783-a86b-f16a71bfb404"
      },
      "execution_count": 33,
      "outputs": [
        {
          "output_type": "stream",
          "name": "stdout",
          "text": [
            "6\n"
          ]
        }
      ]
    },
    {
      "cell_type": "code",
      "source": [
        "a = 5      # 0101\n",
        "print(~a)  # Output: -6\n"
      ],
      "metadata": {
        "colab": {
          "base_uri": "https://localhost:8080/"
        },
        "id": "72SVdZFQrTHT",
        "outputId": "911ea005-7d0f-4b12-a628-51db32492893"
      },
      "execution_count": 34,
      "outputs": [
        {
          "output_type": "stream",
          "name": "stdout",
          "text": [
            "-6\n"
          ]
        }
      ]
    },
    {
      "cell_type": "code",
      "source": [
        "a = 5      # 0101\n",
        "print(a << 1)  # Output: 10 (1010)\n"
      ],
      "metadata": {
        "colab": {
          "base_uri": "https://localhost:8080/"
        },
        "id": "QcYnY8GprVQe",
        "outputId": "53a9d6cc-da96-4d43-ae50-568c1aada81f"
      },
      "execution_count": 35,
      "outputs": [
        {
          "output_type": "stream",
          "name": "stdout",
          "text": [
            "10\n"
          ]
        }
      ]
    },
    {
      "cell_type": "code",
      "source": [
        "a = 5      # 0101\n",
        "print(a >> 1)  # Output: 2 (0010)\n"
      ],
      "metadata": {
        "colab": {
          "base_uri": "https://localhost:8080/"
        },
        "id": "l_5iA9XTrWdY",
        "outputId": "2ba80aed-f08f-4734-b577-6a5ae1938504"
      },
      "execution_count": 36,
      "outputs": [
        {
          "output_type": "stream",
          "name": "stdout",
          "text": [
            "2\n"
          ]
        }
      ]
    },
    {
      "cell_type": "code",
      "source": [
        "# 🧭 Identity Operator: is\n",
        "a = 100\n",
        "b = 100\n",
        "print(a is b)  # True, both refer to the same memory location (small integers are cached)\n",
        "\n",
        "# 🧭 Identity Operator: is not\n",
        "x = [1, 2, 3]\n",
        "y = [1, 2, 3]\n",
        "print(x is not y)  # True, different objects even though values are the same\n",
        "\n",
        "# 🧭 Identity Operator: is with None\n",
        "name = None\n",
        "print(name is None)  # True, commonly used to check for null-like values\n",
        "\n",
        "# 🧭 Identity Operator: is with same reference\n",
        "list1 = [4, 5, 6]\n",
        "list2 = list1\n",
        "print(list1 is list2)  # True, both point to the same object\n",
        "\n",
        "# 🧭 Identity Operator: is not with strings\n",
        "str1 = \"hello\"\n",
        "str2 = \"hello\"\n",
        "print(str1 is not str2)  # False, Python interns small strings so they share memory\n"
      ],
      "metadata": {
        "colab": {
          "base_uri": "https://localhost:8080/"
        },
        "id": "3aN0RPjSsQlQ",
        "outputId": "cc25d74e-dd7b-4cb7-d83d-79426447182b"
      },
      "execution_count": 37,
      "outputs": [
        {
          "output_type": "stream",
          "name": "stdout",
          "text": [
            "True\n",
            "True\n",
            "True\n",
            "True\n",
            "False\n"
          ]
        }
      ]
    },
    {
      "cell_type": "code",
      "source": [
        "# 📦 1. Membership Operator: in with List\n",
        "fruits = [\"apple\", \"banana\", \"orange\"]\n",
        "print(\"banana\" in fruits)  # True"
      ],
      "metadata": {
        "colab": {
          "base_uri": "https://localhost:8080/"
        },
        "id": "l5N4qhcit2Ys",
        "outputId": "cfcd7ae9-bd67-4c03-aa80-9651e87310f4"
      },
      "execution_count": 38,
      "outputs": [
        {
          "output_type": "stream",
          "name": "stdout",
          "text": [
            "True\n"
          ]
        }
      ]
    },
    {
      "cell_type": "code",
      "source": [
        "\n",
        "# 📦 2. Membership Operator: not in with List\n",
        "print(\"grape\" not in fruits)  # True"
      ],
      "metadata": {
        "colab": {
          "base_uri": "https://localhost:8080/"
        },
        "id": "sm0LBY29t6Wi",
        "outputId": "f281e88d-9c86-44f7-c627-29ce50acc431"
      },
      "execution_count": 39,
      "outputs": [
        {
          "output_type": "stream",
          "name": "stdout",
          "text": [
            "True\n"
          ]
        }
      ]
    },
    {
      "cell_type": "code",
      "source": [
        "# 📦 3. Membership Operator: in with String\n",
        "message = \"Welcome to Python!\"\n",
        "print(\"Python\" in message)  # True"
      ],
      "metadata": {
        "colab": {
          "base_uri": "https://localhost:8080/"
        },
        "id": "YT4tMXxCt8AM",
        "outputId": "9ecee623-26ab-47d7-caf7-25452eb5766d"
      },
      "execution_count": 40,
      "outputs": [
        {
          "output_type": "stream",
          "name": "stdout",
          "text": [
            "True\n"
          ]
        }
      ]
    },
    {
      "cell_type": "code",
      "source": [
        "# 📦 4. Membership Operator: not in with String\n",
        "print(\"Java\" not in message)  # True"
      ],
      "metadata": {
        "colab": {
          "base_uri": "https://localhost:8080/"
        },
        "id": "DKz1Zp0vt9ep",
        "outputId": "d3221203-92ad-4ecd-d135-689dc76e053c"
      },
      "execution_count": 41,
      "outputs": [
        {
          "output_type": "stream",
          "name": "stdout",
          "text": [
            "True\n"
          ]
        }
      ]
    },
    {
      "cell_type": "code",
      "source": [],
      "metadata": {
        "id": "v8MMhoC6uMlR"
      },
      "execution_count": null,
      "outputs": []
    },
    {
      "cell_type": "code",
      "source": [
        "# 📦 5. Membership Operator: in with Tuple\n",
        "colors = (\"red\", \"green\", \"blue\")\n",
        "print(\"green\" in colors)  # True"
      ],
      "metadata": {
        "colab": {
          "base_uri": "https://localhost:8080/"
        },
        "id": "BNcknPXtt_H7",
        "outputId": "74ae5aee-8e6e-4ec0-b8bd-2bf6779a65e5"
      },
      "execution_count": 42,
      "outputs": [
        {
          "output_type": "stream",
          "name": "stdout",
          "text": [
            "True\n"
          ]
        }
      ]
    },
    {
      "cell_type": "code",
      "source": [
        "# 📦 6. Membership Operator: not in with Tuple\n",
        "print(\"yellow\" not in colors)  # True"
      ],
      "metadata": {
        "colab": {
          "base_uri": "https://localhost:8080/"
        },
        "id": "RCDiRQrluAfN",
        "outputId": "7c44df47-884d-4370-c76f-d06938b39dc8"
      },
      "execution_count": 43,
      "outputs": [
        {
          "output_type": "stream",
          "name": "stdout",
          "text": [
            "True\n"
          ]
        }
      ]
    },
    {
      "cell_type": "code",
      "source": [
        "# 📦 7. Membership Operator: in with Set\n",
        "numbers = {1, 2, 3, 4, 5}\n",
        "print(3 in numbers)  # True"
      ],
      "metadata": {
        "colab": {
          "base_uri": "https://localhost:8080/"
        },
        "id": "lZejcQE-uOfP",
        "outputId": "4b40c714-19e7-4026-cff8-43eff5e09269"
      },
      "execution_count": 44,
      "outputs": [
        {
          "output_type": "stream",
          "name": "stdout",
          "text": [
            "True\n"
          ]
        }
      ]
    },
    {
      "cell_type": "code",
      "source": [
        "# 📦 8. Membership Operator: not in with Set\n",
        "print(6 not in numbers)  # True"
      ],
      "metadata": {
        "colab": {
          "base_uri": "https://localhost:8080/"
        },
        "id": "Mx15B2hhuSBf",
        "outputId": "4cfde03c-5f80-4917-bd53-4dd5fc694594"
      },
      "execution_count": 45,
      "outputs": [
        {
          "output_type": "stream",
          "name": "stdout",
          "text": [
            "True\n"
          ]
        }
      ]
    },
    {
      "cell_type": "code",
      "source": [
        "# 📦 9. Membership Operator: in with Dictionary (checks keys only)\n",
        "person = {\"name\": \"Ram\", \"age\": 25}\n",
        "print(\"name\" in person)  # True"
      ],
      "metadata": {
        "colab": {
          "base_uri": "https://localhost:8080/"
        },
        "id": "7xBm_7zXuTY8",
        "outputId": "786efb61-ab82-47b8-9d86-3bf9b797f11e"
      },
      "execution_count": 46,
      "outputs": [
        {
          "output_type": "stream",
          "name": "stdout",
          "text": [
            "True\n"
          ]
        }
      ]
    },
    {
      "cell_type": "code",
      "source": [
        "# 📦 4. Membership Operator: not in with String\n",
        "print(\"Java\" not in message)  # True"
      ],
      "metadata": {
        "colab": {
          "base_uri": "https://localhost:8080/"
        },
        "id": "1rjtXZ_AvZjc",
        "outputId": "00e9f65f-c0ee-4bec-c968-ef9093b30bff"
      },
      "execution_count": 47,
      "outputs": [
        {
          "output_type": "stream",
          "name": "stdout",
          "text": [
            "True\n"
          ]
        }
      ]
    },
    {
      "cell_type": "code",
      "source": [
        "# 📦 5. Membership Operator: in with Tuple\n",
        "colors = (\"red\", \"green\", \"blue\")\n",
        "print(\"green\" in colors)  # True"
      ],
      "metadata": {
        "colab": {
          "base_uri": "https://localhost:8080/"
        },
        "id": "ESsu-g_yvnqf",
        "outputId": "3e6dbfdb-5d99-4b5e-b768-cd9ee8713602"
      },
      "execution_count": 48,
      "outputs": [
        {
          "output_type": "stream",
          "name": "stdout",
          "text": [
            "True\n"
          ]
        }
      ]
    },
    {
      "cell_type": "code",
      "source": [
        "# 📦 5. Membership Operator: in with Tuple\n",
        "colors = (\"red\", \"green\", \"blue\")\n",
        "print(\"green\" in colors)  # True"
      ],
      "metadata": {
        "colab": {
          "base_uri": "https://localhost:8080/"
        },
        "id": "b-1YgqwDwvjA",
        "outputId": "628e0ecb-5004-4de6-8481-ed3727404bef"
      },
      "execution_count": 49,
      "outputs": [
        {
          "output_type": "stream",
          "name": "stdout",
          "text": [
            "True\n"
          ]
        }
      ]
    },
    {
      "cell_type": "code",
      "source": [
        "# 📦 6. Membership Operator: not in with Tuple\n",
        "print(\"yellow\" not in colors)  # True"
      ],
      "metadata": {
        "colab": {
          "base_uri": "https://localhost:8080/"
        },
        "id": "quO21owKwyrl",
        "outputId": "141f6070-f1d1-4a98-dc1b-9358b6ed0156"
      },
      "execution_count": 50,
      "outputs": [
        {
          "output_type": "stream",
          "name": "stdout",
          "text": [
            "True\n"
          ]
        }
      ]
    },
    {
      "cell_type": "code",
      "source": [
        "# 📦 7. Membership Operator: in with Set\n",
        "numbers = {1, 2, 3, 4, 5}\n",
        "print(3 in numbers)  # True"
      ],
      "metadata": {
        "colab": {
          "base_uri": "https://localhost:8080/"
        },
        "id": "HuGCeTiNw0WX",
        "outputId": "124d223e-8ff1-4261-dd79-2c942dc3a16c"
      },
      "execution_count": 51,
      "outputs": [
        {
          "output_type": "stream",
          "name": "stdout",
          "text": [
            "True\n"
          ]
        }
      ]
    },
    {
      "cell_type": "code",
      "source": [
        "\n",
        "# 📦 8. Membership Operator: not in with Set\n",
        "print(6 not in numbers)  # True"
      ],
      "metadata": {
        "colab": {
          "base_uri": "https://localhost:8080/"
        },
        "id": "vDgL88sYw3ZA",
        "outputId": "af39ea78-e3c6-46dc-da48-4737d5244aa5"
      },
      "execution_count": 52,
      "outputs": [
        {
          "output_type": "stream",
          "name": "stdout",
          "text": [
            "True\n"
          ]
        }
      ]
    },
    {
      "cell_type": "code",
      "source": [
        "# 📦 9. Membership Operator: in with Dictionary (checks keys only)\n",
        "person = {\"name\": \"Ram\", \"age\": 25}\n",
        "print(\"name\" in person)  # True"
      ],
      "metadata": {
        "colab": {
          "base_uri": "https://localhost:8080/"
        },
        "id": "eFZXL4Wmw7Fo",
        "outputId": "5d51b730-59e3-4fa3-9d31-e9867355958e"
      },
      "execution_count": 54,
      "outputs": [
        {
          "output_type": "stream",
          "name": "stdout",
          "text": [
            "True\n"
          ]
        }
      ]
    },
    {
      "cell_type": "code",
      "source": [
        "# 📦 9. Membership Operator: in with Dictionary (checks keys only)\n",
        "person = {\"name\": \"Ram\", \"age\": 25}\n",
        "print(\"name\" in person)  # True"
      ],
      "metadata": {
        "colab": {
          "base_uri": "https://localhost:8080/"
        },
        "id": "0It0WagAxUIQ",
        "outputId": "4971e7e9-e836-4db6-c09c-bb4c702a0639"
      },
      "execution_count": 55,
      "outputs": [
        {
          "output_type": "stream",
          "name": "stdout",
          "text": [
            "True\n"
          ]
        }
      ]
    }
  ]
}