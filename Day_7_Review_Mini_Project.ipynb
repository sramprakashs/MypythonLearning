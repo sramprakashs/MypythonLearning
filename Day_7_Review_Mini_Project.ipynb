{
  "nbformat": 4,
  "nbformat_minor": 0,
  "metadata": {
    "colab": {
      "provenance": [],
      "authorship_tag": "ABX9TyNR6R7vkOtyIIPRByIdWvGF",
      "include_colab_link": true
    },
    "kernelspec": {
      "name": "python3",
      "display_name": "Python 3"
    },
    "language_info": {
      "name": "python"
    }
  },
  "cells": [
    {
      "cell_type": "markdown",
      "metadata": {
        "id": "view-in-github",
        "colab_type": "text"
      },
      "source": [
        "<a href=\"https://colab.research.google.com/github/sramprakashs/MypythonLearning/blob/main/Day_7_Review_Mini_Project.ipynb\" target=\"_parent\"><img src=\"https://colab.research.google.com/assets/colab-badge.svg\" alt=\"Open In Colab\"/></a>"
      ]
    },
    {
      "cell_type": "code",
      "execution_count": 1,
      "metadata": {
        "colab": {
          "base_uri": "https://localhost:8080/"
        },
        "id": "jua9LZvvetrs",
        "outputId": "7fdf0f22-5a5d-496b-9a7d-ae4f68ec72de"
      },
      "outputs": [
        {
          "output_type": "stream",
          "name": "stdout",
          "text": [
            "Enter your choice (rock, paper, scissors): rock\n",
            "\n",
            "You chose: rock\n",
            "Computer chose: rock\n",
            "It's a tie!\n",
            "\n",
            "Play again? (y/n): y\n",
            "Enter your choice (rock, paper, scissors): paper\n",
            "\n",
            "You chose: paper\n",
            "Computer chose: rock\n",
            "🎉 You win!\n",
            "\n",
            "Play again? (y/n): n\n",
            "👋 Thanks for playing!\n"
          ]
        }
      ],
      "source": [
        "# 🪨📄✂️ Rock-Paper-Scissors Game\n",
        "\n",
        "import random\n",
        "\n",
        "def get_user_choice():\n",
        "    return input(\"Enter your choice (rock, paper, scissors): \").lower()\n",
        "\n",
        "def get_computer_choice():\n",
        "    return random.choice([\"rock\", \"paper\", \"scissors\"])\n",
        "\n",
        "def determine_winner(user, computer):\n",
        "    if user == computer:\n",
        "        return \"It's a tie!\"\n",
        "    elif (user == \"rock\" and computer == \"scissors\") or \\\n",
        "         (user == \"paper\" and computer == \"rock\") or \\\n",
        "         (user == \"scissors\" and computer == \"paper\"):\n",
        "        return \"🎉 You win!\"\n",
        "    else:\n",
        "        return \"💻 Computer wins!\"\n",
        "\n",
        "# 🔁 Game loop\n",
        "while True:\n",
        "    user_choice = get_user_choice()\n",
        "    computer_choice = get_computer_choice()\n",
        "\n",
        "    print(f\"\\nYou chose: {user_choice}\")\n",
        "    print(f\"Computer chose: {computer_choice}\")\n",
        "    print(determine_winner(user_choice, computer_choice))\n",
        "\n",
        "    play_again = input(\"\\nPlay again? (y/n): \").lower()\n",
        "    if play_again != 'y':\n",
        "        print(\"👋 Thanks for playing!\")\n",
        "        break\n"
      ]
    },
    {
      "cell_type": "code",
      "source": [
        "# 🧮 Rock-Paper-Scissors with Score Tracker\n",
        "\n",
        "import random\n",
        "\n",
        "user_score = 0\n",
        "computer_score = 0\n",
        "ties = 0\n",
        "\n",
        "def get_user_choice():\n",
        "    return input(\"Enter your choice (rock, paper, scissors): \").lower()\n",
        "\n",
        "def get_computer_choice():\n",
        "    return random.choice([\"rock\", \"paper\", \"scissors\"])\n",
        "\n",
        "def determine_winner(user, computer):\n",
        "    global user_score, computer_score, ties\n",
        "    if user == computer:\n",
        "        ties += 1\n",
        "        return \"It's a tie!\"\n",
        "    elif (user == \"rock\" and computer == \"scissors\") or \\\n",
        "         (user == \"paper\" and computer == \"rock\") or \\\n",
        "         (user == \"scissors\" and computer == \"paper\"):\n",
        "        user_score += 1\n",
        "        return \"🎉 You win!\"\n",
        "    else:\n",
        "        computer_score += 1\n",
        "        return \"💻 Computer wins!\"\n",
        "\n",
        "# 🔁 Game loop\n",
        "while True:\n",
        "    user_choice = get_user_choice()\n",
        "    computer_choice = get_computer_choice()\n",
        "\n",
        "    print(f\"\\nYou chose: {user_choice}\")\n",
        "    print(f\"Computer chose: {computer_choice}\")\n",
        "    print(determine_winner(user_choice, computer_choice))\n",
        "\n",
        "    print(f\"\\n📊 Score — You: {user_score}, Computer: {computer_score}, Ties: {ties}\")\n",
        "\n",
        "    play_again = input(\"\\nPlay again? (y/n): \").lower()\n",
        "    if play_again != 'y':\n",
        "        print(\"👋 Final Score — Thanks for playing!\")\n",
        "        break\n"
      ],
      "metadata": {
        "colab": {
          "base_uri": "https://localhost:8080/"
        },
        "id": "q6caUuxYm6rJ",
        "outputId": "32bf70a4-1279-499d-842a-5cc23e2f787e"
      },
      "execution_count": 2,
      "outputs": [
        {
          "output_type": "stream",
          "name": "stdout",
          "text": [
            "Enter your choice (rock, paper, scissors): rock\n",
            "\n",
            "You chose: rock\n",
            "Computer chose: paper\n",
            "💻 Computer wins!\n",
            "\n",
            "📊 Score — You: 0, Computer: 1, Ties: 0\n",
            "\n",
            "Play again? (y/n): n\n",
            "👋 Final Score — Thanks for playing!\n"
          ]
        }
      ]
    },
    {
      "cell_type": "code",
      "source": [
        "# 🖼️ Rock-Paper-Scissors GUI Game using Tkinter\n",
        "\n",
        "import tkinter as tk\n",
        "import random\n",
        "\n",
        "# Create main window\n",
        "window = tk.Tk()\n",
        "window.title(\"Rock-Paper-Scissors Game\")\n",
        "window.geometry(\"400x300\")\n",
        "\n",
        "# Choices\n",
        "choices = [\"Rock\", \"Paper\", \"Scissors\"]\n",
        "\n",
        "# Result label\n",
        "result_label = tk.Label(window, text=\"\", font=(\"Arial\", 14))\n",
        "result_label.pack(pady=20)\n",
        "\n",
        "# Function to determine winner\n",
        "def play(user_choice):\n",
        "    computer_choice = random.choice(choices)\n",
        "    result = \"\"\n",
        "\n",
        "    if user_choice == computer_choice:\n",
        "        result = \"It's a tie!\"\n",
        "    elif (user_choice == \"Rock\" and computer_choice == \"Scissors\") or \\\n",
        "         (user_choice == \"Paper\" and computer_choice == \"Rock\") or \\\n",
        "         (user_choice == \"Scissors\" and computer_choice == \"Paper\"):\n",
        "        result = \"🎉 You win!\"\n",
        "    else:\n",
        "        result = \"💻 Computer wins!\"\n",
        "\n",
        "    result_label.config(text=f\"You chose: {user_choice}\\nComputer chose: {computer_choice}\\n{result}\")\n",
        "\n",
        "# Buttons\n",
        "rock_btn = tk.Button(window, text=\"Rock\", width=15, command=lambda: play(\"Rock\"))\n",
        "paper_btn = tk.Button(window, text=\"Paper\", width=15, command=lambda: play(\"Paper\"))\n",
        "scissors_btn = tk.Button(window, text=\"Scissors\", width=15, command=lambda: play(\"Scissors\"))\n",
        "\n",
        "rock_btn.pack(pady=5)\n",
        "paper_btn.pack(pady=5)\n",
        "scissors_btn.pack(pady=5)\n",
        "\n",
        "# Run the GUI loop\n",
        "window.mainloop()\n"
      ],
      "metadata": {
        "colab": {
          "base_uri": "https://localhost:8080/",
          "height": 346
        },
        "id": "tC_okaKWoTjS",
        "outputId": "ea7c380f-62b5-452a-d415-29323503cbef"
      },
      "execution_count": 3,
      "outputs": [
        {
          "output_type": "error",
          "ename": "TclError",
          "evalue": "no display name and no $DISPLAY environment variable",
          "traceback": [
            "\u001b[0;31m---------------------------------------------------------------------------\u001b[0m",
            "\u001b[0;31mTclError\u001b[0m                                  Traceback (most recent call last)",
            "\u001b[0;32m/tmp/ipython-input-3-1706152618.py\u001b[0m in \u001b[0;36m<cell line: 0>\u001b[0;34m()\u001b[0m\n\u001b[1;32m      5\u001b[0m \u001b[0;34m\u001b[0m\u001b[0m\n\u001b[1;32m      6\u001b[0m \u001b[0;31m# Create main window\u001b[0m\u001b[0;34m\u001b[0m\u001b[0;34m\u001b[0m\u001b[0m\n\u001b[0;32m----> 7\u001b[0;31m \u001b[0mwindow\u001b[0m \u001b[0;34m=\u001b[0m \u001b[0mtk\u001b[0m\u001b[0;34m.\u001b[0m\u001b[0mTk\u001b[0m\u001b[0;34m(\u001b[0m\u001b[0;34m)\u001b[0m\u001b[0;34m\u001b[0m\u001b[0;34m\u001b[0m\u001b[0m\n\u001b[0m\u001b[1;32m      8\u001b[0m \u001b[0mwindow\u001b[0m\u001b[0;34m.\u001b[0m\u001b[0mtitle\u001b[0m\u001b[0;34m(\u001b[0m\u001b[0;34m\"Rock-Paper-Scissors Game\"\u001b[0m\u001b[0;34m)\u001b[0m\u001b[0;34m\u001b[0m\u001b[0;34m\u001b[0m\u001b[0m\n\u001b[1;32m      9\u001b[0m \u001b[0mwindow\u001b[0m\u001b[0;34m.\u001b[0m\u001b[0mgeometry\u001b[0m\u001b[0;34m(\u001b[0m\u001b[0;34m\"400x300\"\u001b[0m\u001b[0;34m)\u001b[0m\u001b[0;34m\u001b[0m\u001b[0;34m\u001b[0m\u001b[0m\n",
            "\u001b[0;32m/usr/lib/python3.11/tkinter/__init__.py\u001b[0m in \u001b[0;36m__init__\u001b[0;34m(self, screenName, baseName, className, useTk, sync, use)\u001b[0m\n\u001b[1;32m   2324\u001b[0m                 \u001b[0mbaseName\u001b[0m \u001b[0;34m=\u001b[0m \u001b[0mbaseName\u001b[0m \u001b[0;34m+\u001b[0m \u001b[0mext\u001b[0m\u001b[0;34m\u001b[0m\u001b[0;34m\u001b[0m\u001b[0m\n\u001b[1;32m   2325\u001b[0m         \u001b[0minteractive\u001b[0m \u001b[0;34m=\u001b[0m \u001b[0;32mFalse\u001b[0m\u001b[0;34m\u001b[0m\u001b[0;34m\u001b[0m\u001b[0m\n\u001b[0;32m-> 2326\u001b[0;31m         \u001b[0mself\u001b[0m\u001b[0;34m.\u001b[0m\u001b[0mtk\u001b[0m \u001b[0;34m=\u001b[0m \u001b[0m_tkinter\u001b[0m\u001b[0;34m.\u001b[0m\u001b[0mcreate\u001b[0m\u001b[0;34m(\u001b[0m\u001b[0mscreenName\u001b[0m\u001b[0;34m,\u001b[0m \u001b[0mbaseName\u001b[0m\u001b[0;34m,\u001b[0m \u001b[0mclassName\u001b[0m\u001b[0;34m,\u001b[0m \u001b[0minteractive\u001b[0m\u001b[0;34m,\u001b[0m \u001b[0mwantobjects\u001b[0m\u001b[0;34m,\u001b[0m \u001b[0museTk\u001b[0m\u001b[0;34m,\u001b[0m \u001b[0msync\u001b[0m\u001b[0;34m,\u001b[0m \u001b[0muse\u001b[0m\u001b[0;34m)\u001b[0m\u001b[0;34m\u001b[0m\u001b[0;34m\u001b[0m\u001b[0m\n\u001b[0m\u001b[1;32m   2327\u001b[0m         \u001b[0;32mif\u001b[0m \u001b[0museTk\u001b[0m\u001b[0;34m:\u001b[0m\u001b[0;34m\u001b[0m\u001b[0;34m\u001b[0m\u001b[0m\n\u001b[1;32m   2328\u001b[0m             \u001b[0mself\u001b[0m\u001b[0;34m.\u001b[0m\u001b[0m_loadtk\u001b[0m\u001b[0;34m(\u001b[0m\u001b[0;34m)\u001b[0m\u001b[0;34m\u001b[0m\u001b[0;34m\u001b[0m\u001b[0m\n",
            "\u001b[0;31mTclError\u001b[0m: no display name and no $DISPLAY environment variable"
          ]
        }
      ]
    }
  ]
}