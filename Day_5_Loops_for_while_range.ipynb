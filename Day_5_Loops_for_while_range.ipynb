{
  "nbformat": 4,
  "nbformat_minor": 0,
  "metadata": {
    "colab": {
      "provenance": [],
      "authorship_tag": "ABX9TyPLGQix7rHdEV1NU8uuNIsb",
      "include_colab_link": true
    },
    "kernelspec": {
      "name": "python3",
      "display_name": "Python 3"
    },
    "language_info": {
      "name": "python"
    }
  },
  "cells": [
    {
      "cell_type": "markdown",
      "metadata": {
        "id": "view-in-github",
        "colab_type": "text"
      },
      "source": [
        "<a href=\"https://colab.research.google.com/github/sramprakashs/MypythonLearning/blob/main/Day_5_Loops_for_while_range.ipynb\" target=\"_parent\"><img src=\"https://colab.research.google.com/assets/colab-badge.svg\" alt=\"Open In Colab\"/></a>"
      ]
    },
    {
      "cell_type": "code",
      "execution_count": 1,
      "metadata": {
        "colab": {
          "base_uri": "https://localhost:8080/"
        },
        "id": "d_nBP_SlzR10",
        "outputId": "10bdaa29-833c-4f27-9140-2458980ec44a"
      },
      "outputs": [
        {
          "output_type": "stream",
          "name": "stdout",
          "text": [
            "1\n",
            "2\n",
            "3\n",
            "4\n",
            "5\n"
          ]
        }
      ],
      "source": [
        "# Print numbers from 1 to 5\n",
        "for i in range(1, 6):\n",
        "    print(i)\n"
      ]
    },
    {
      "cell_type": "code",
      "source": [],
      "metadata": {
        "id": "qKAubSIA0EYp"
      },
      "execution_count": null,
      "outputs": []
    },
    {
      "cell_type": "code",
      "source": [
        "# Print numbers from 1 to 5 using while loop\n",
        "i = 1\n",
        "while i <= 5:\n",
        "    print(i)\n",
        "    i += 1\n"
      ],
      "metadata": {
        "colab": {
          "base_uri": "https://localhost:8080/"
        },
        "id": "EFjKyTuy0B9f",
        "outputId": "b94cbd5d-7c31-4072-c416-fb7b1921190a"
      },
      "execution_count": 2,
      "outputs": [
        {
          "output_type": "stream",
          "name": "stdout",
          "text": [
            "1\n",
            "2\n",
            "3\n",
            "4\n",
            "5\n"
          ]
        }
      ]
    },
    {
      "cell_type": "code",
      "source": [
        "rows = 5\n",
        "for i in range(1, rows + 1):\n",
        "    print(\"* \" * i)\n"
      ],
      "metadata": {
        "colab": {
          "base_uri": "https://localhost:8080/"
        },
        "id": "roWa86NV0F_D",
        "outputId": "67ed47cf-6cc1-4359-edda-508fc2ed7bd5"
      },
      "execution_count": 3,
      "outputs": [
        {
          "output_type": "stream",
          "name": "stdout",
          "text": [
            "* \n",
            "* * \n",
            "* * * \n",
            "* * * * \n",
            "* * * * * \n"
          ]
        }
      ]
    },
    {
      "cell_type": "code",
      "source": [
        "# Pattern Practice: Right-Angled Triangle\n",
        "rows = 5\n",
        "for i in range(1, rows + 1):\n",
        "    print(\"* \" * i)\n"
      ],
      "metadata": {
        "colab": {
          "base_uri": "https://localhost:8080/"
        },
        "id": "OCc5GX5V1HC6",
        "outputId": "8d601fca-cb60-4688-9ccb-70fc15a2e998"
      },
      "execution_count": 4,
      "outputs": [
        {
          "output_type": "stream",
          "name": "stdout",
          "text": [
            "* \n",
            "* * \n",
            "* * * \n",
            "* * * * \n",
            "* * * * * \n"
          ]
        }
      ]
    },
    {
      "cell_type": "code",
      "source": [
        "# Ask how many numbers to input\n",
        "count = int(input(\"How many numbers do you want to process? \"))\n",
        "\n",
        "for i in range(count):\n",
        "    num = int(input(f\"Enter number {i + 1}: \"))\n",
        "    total = 0\n",
        "\n",
        "    while num > 0:\n",
        "        digit = num % 10\n",
        "        total += digit\n",
        "        num //= 10\n",
        "\n",
        "    print(f\"Sum of digits: {total}\\n\")\n",
        "\n"
      ],
      "metadata": {
        "colab": {
          "base_uri": "https://localhost:8080/"
        },
        "id": "CfQtfKW61PIG",
        "outputId": "3acab6a0-200a-4395-f08c-f4f0a1f9b877"
      },
      "execution_count": 6,
      "outputs": [
        {
          "output_type": "stream",
          "name": "stdout",
          "text": [
            "How many numbers do you want to process? 5\n",
            "Enter number 1: 56\n",
            "Sum of digits: 11\n",
            "\n",
            "Enter number 2: 36\n",
            "Sum of digits: 9\n",
            "\n",
            "Enter number 3: 45\n",
            "Sum of digits: 9\n",
            "\n",
            "Enter number 4: 23\n",
            "Sum of digits: 5\n",
            "\n",
            "Enter number 5: 89\n",
            "Sum of digits: 17\n",
            "\n"
          ]
        }
      ]
    },
    {
      "cell_type": "code",
      "source": [
        "# Print multiplication table from 1 to 5\n",
        "for i in range(1, 6):\n",
        "    for j in range(1, 6):\n",
        "        print(f\"{i} x {j} = {i * j}\")\n",
        "    print()  # Blank line after each row"
      ],
      "metadata": {
        "colab": {
          "base_uri": "https://localhost:8080/"
        },
        "id": "cAmNbsYl2qfN",
        "outputId": "60650f1f-c565-483f-d7c1-6f36ed7b9d0b"
      },
      "execution_count": 7,
      "outputs": [
        {
          "output_type": "stream",
          "name": "stdout",
          "text": [
            "1 x 1 = 1\n",
            "1 x 2 = 2\n",
            "1 x 3 = 3\n",
            "1 x 4 = 4\n",
            "1 x 5 = 5\n",
            "\n",
            "2 x 1 = 2\n",
            "2 x 2 = 4\n",
            "2 x 3 = 6\n",
            "2 x 4 = 8\n",
            "2 x 5 = 10\n",
            "\n",
            "3 x 1 = 3\n",
            "3 x 2 = 6\n",
            "3 x 3 = 9\n",
            "3 x 4 = 12\n",
            "3 x 5 = 15\n",
            "\n",
            "4 x 1 = 4\n",
            "4 x 2 = 8\n",
            "4 x 3 = 12\n",
            "4 x 4 = 16\n",
            "4 x 5 = 20\n",
            "\n",
            "5 x 1 = 5\n",
            "5 x 2 = 10\n",
            "5 x 3 = 15\n",
            "5 x 4 = 20\n",
            "5 x 5 = 25\n",
            "\n"
          ]
        }
      ]
    },
    {
      "cell_type": "code",
      "source": [
        "# Print a triangle of stars\n",
        "rows = 5\n",
        "for i in range(1, rows + 1):\n",
        "    for j in range(i):\n",
        "        print(\"*\", end=\" \")\n",
        "    print()"
      ],
      "metadata": {
        "colab": {
          "base_uri": "https://localhost:8080/"
        },
        "id": "orPg0abq2x9E",
        "outputId": "59d421de-6b45-408b-a667-eb2de8c845dc"
      },
      "execution_count": 8,
      "outputs": [
        {
          "output_type": "stream",
          "name": "stdout",
          "text": [
            "* \n",
            "* * \n",
            "* * * \n",
            "* * * * \n",
            "* * * * * \n"
          ]
        }
      ]
    },
    {
      "cell_type": "code",
      "source": [
        "# Print elements of a 2D list\n",
        "matrix = [[1, 2], [3, 4], [5, 6]]\n",
        "for row in matrix:\n",
        "    for item in row:\n",
        "        print(item, end=\" \")\n",
        "    print()\n"
      ],
      "metadata": {
        "colab": {
          "base_uri": "https://localhost:8080/"
        },
        "id": "oCatjfB24wR3",
        "outputId": "624e3c70-6858-413b-d741-e1d11a6171bb"
      },
      "execution_count": 9,
      "outputs": [
        {
          "output_type": "stream",
          "name": "stdout",
          "text": [
            "1 2 \n",
            "3 4 \n",
            "5 6 \n"
          ]
        }
      ]
    },
    {
      "cell_type": "code",
      "source": [
        "# Combine items from two lists , Pairwise Combinations\n",
        "colors = [\"red\", \"green\"]\n",
        "shapes = [\"circle\", \"square\"]\n",
        "\n",
        "for color in colors:\n",
        "    for shape in shapes:\n",
        "        print(f\"{color} {shape}\")\n"
      ],
      "metadata": {
        "colab": {
          "base_uri": "https://localhost:8080/"
        },
        "id": "Bo3My3j155y3",
        "outputId": "3bd4a33c-4a9e-4b2e-f3ce-7efdbf58da29"
      },
      "execution_count": 10,
      "outputs": [
        {
          "output_type": "stream",
          "name": "stdout",
          "text": [
            "red circle\n",
            "red square\n",
            "green circle\n",
            "green square\n"
          ]
        }
      ]
    },
    {
      "cell_type": "code",
      "source": [
        "# Create a list of lists using nested loops\n",
        "nested_list = []\n",
        "for i in range(3):\n",
        "    inner = []\n",
        "    for j in range(2):\n",
        "        inner.append(i + j)\n",
        "    nested_list.append(inner)\n",
        "\n",
        "print(nested_list)  # Output: [[0, 1], [1, 2], [2, 3]]\n"
      ],
      "metadata": {
        "colab": {
          "base_uri": "https://localhost:8080/"
        },
        "id": "PSHSjOOE6pVC",
        "outputId": "8f938c9c-c8fd-46ef-b767-975ff4319479"
      },
      "execution_count": 11,
      "outputs": [
        {
          "output_type": "stream",
          "name": "stdout",
          "text": [
            "[[0, 1], [1, 2], [2, 3]]\n"
          ]
        }
      ]
    },
    {
      "cell_type": "code",
      "source": [
        "# 🔁 Repeat asking for name until user types 'quit'\n",
        "\n",
        "while True:\n",
        "    name = input(\"Enter your name (or type 'quit' to exit): \")\n",
        "    if name.lower() == \"quit\":\n",
        "        print(\"👋 Exiting the program. Goodbye!\")\n",
        "        break\n",
        "    else:\n",
        "        print(f\"Hello, {name}! Nice to meet you.\\n\")\n"
      ],
      "metadata": {
        "colab": {
          "base_uri": "https://localhost:8080/"
        },
        "id": "MuCFJKuI8P7u",
        "outputId": "53ab5c40-7ef6-47ae-b4f1-4e106d2f2c5a"
      },
      "execution_count": 12,
      "outputs": [
        {
          "output_type": "stream",
          "name": "stdout",
          "text": [
            "Enter your name (or type 'quit' to exit): prakash\n",
            "Hello, prakash! Nice to meet you.\n",
            "\n",
            "Enter your name (or type 'quit' to exit): quit\n",
            "👋 Exiting the program. Goodbye!\n"
          ]
        }
      ]
    },
    {
      "cell_type": "code",
      "source": [
        "# 📄 List of numbers\n",
        "numbers = [10, 20, 30, 40, 50]\n",
        "\n",
        "# 🔁 Using enumerate to access index and value\n",
        "for index, value in enumerate(numbers):\n",
        "    print(f\"Index {index}: Value {value}\")\n"
      ],
      "metadata": {
        "colab": {
          "base_uri": "https://localhost:8080/"
        },
        "id": "6_whb0m98VZg",
        "outputId": "1641d681-c328-47e1-d55d-9c570242e1a1"
      },
      "execution_count": 13,
      "outputs": [
        {
          "output_type": "stream",
          "name": "stdout",
          "text": [
            "Index 0: Value 10\n",
            "Index 1: Value 20\n",
            "Index 2: Value 30\n",
            "Index 3: Value 40\n",
            "Index 4: Value 50\n"
          ]
        }
      ]
    },
    {
      "cell_type": "code",
      "source": [
        "# List of numbers\n",
        "numbers = [1, 3, 5, 7, 9, 11]\n",
        "\n",
        "# Loop through the list\n",
        "for num in numbers:\n",
        "    print(f\"Checking {num}...\")\n",
        "    if num == 7:\n",
        "        print(\"🎯 Number 7 found! Breaking out of the loop.\")\n",
        "        break\n"
      ],
      "metadata": {
        "colab": {
          "base_uri": "https://localhost:8080/"
        },
        "id": "wAuw1gKh9k7B",
        "outputId": "d2d68492-3544-4356-ce47-bd3666571ede"
      },
      "execution_count": 14,
      "outputs": [
        {
          "output_type": "stream",
          "name": "stdout",
          "text": [
            "Checking 1...\n",
            "Checking 3...\n",
            "Checking 5...\n",
            "Checking 7...\n",
            "🎯 Number 7 found! Breaking out of the loop.\n"
          ]
        }
      ]
    },
    {
      "cell_type": "code",
      "source": [
        "# Loop from 1 to 10\n",
        "for num in range(1, 11):\n",
        "    if num == 5:\n",
        "        continue  # Skip this iteration if number is 5\n",
        "    print(num)\n"
      ],
      "metadata": {
        "colab": {
          "base_uri": "https://localhost:8080/"
        },
        "id": "Tr_eeNW4Aao4",
        "outputId": "b5d91101-0917-4763-fba7-85034d11ebf4"
      },
      "execution_count": 15,
      "outputs": [
        {
          "output_type": "stream",
          "name": "stdout",
          "text": [
            "1\n",
            "2\n",
            "3\n",
            "4\n",
            "6\n",
            "7\n",
            "8\n",
            "9\n",
            "10\n"
          ]
        }
      ]
    },
    {
      "cell_type": "code",
      "source": [
        "# 🔢 Function to Sum Elements in a List Using a for Loop\n",
        "\n",
        "def sum_list_elements(numbers):\n",
        "    total = 0\n",
        "    for num in numbers:\n",
        "        total += num\n",
        "    return total\n",
        "\n",
        "# ✅ Example usage\n",
        "sample_list = [10, 20, 30, 40]\n",
        "result = sum_list_elements(sample_list)\n",
        "print(\"Sum of list elements:\", result)\n"
      ],
      "metadata": {
        "colab": {
          "base_uri": "https://localhost:8080/"
        },
        "id": "lWYeqAMAA5Gc",
        "outputId": "2ec69e94-1ebd-4037-f145-21b2c8bfd8a1"
      },
      "execution_count": 16,
      "outputs": [
        {
          "output_type": "stream",
          "name": "stdout",
          "text": [
            "Sum of list elements: 100\n"
          ]
        }
      ]
    },
    {
      "cell_type": "code",
      "source": [
        "# 🔁 Multiplication Table for Numbers 1 to 3 Using Nested for Loops\n",
        "\n",
        "for i in range(1, 4):         # Outer loop for numbers 1 to 3\n",
        "    for j in range(1, 11):    # Inner loop for multiplying 1 to 10\n",
        "        print(f\"{i} x {j} = {i * j}\")\n",
        "    print()  # Add a blank line after each table\n"
      ],
      "metadata": {
        "colab": {
          "base_uri": "https://localhost:8080/"
        },
        "id": "RiyDJhPgBElm",
        "outputId": "32da224f-06cc-408f-97b7-70198a337831"
      },
      "execution_count": 17,
      "outputs": [
        {
          "output_type": "stream",
          "name": "stdout",
          "text": [
            "1 x 1 = 1\n",
            "1 x 2 = 2\n",
            "1 x 3 = 3\n",
            "1 x 4 = 4\n",
            "1 x 5 = 5\n",
            "1 x 6 = 6\n",
            "1 x 7 = 7\n",
            "1 x 8 = 8\n",
            "1 x 9 = 9\n",
            "1 x 10 = 10\n",
            "\n",
            "2 x 1 = 2\n",
            "2 x 2 = 4\n",
            "2 x 3 = 6\n",
            "2 x 4 = 8\n",
            "2 x 5 = 10\n",
            "2 x 6 = 12\n",
            "2 x 7 = 14\n",
            "2 x 8 = 16\n",
            "2 x 9 = 18\n",
            "2 x 10 = 20\n",
            "\n",
            "3 x 1 = 3\n",
            "3 x 2 = 6\n",
            "3 x 3 = 9\n",
            "3 x 4 = 12\n",
            "3 x 5 = 15\n",
            "3 x 6 = 18\n",
            "3 x 7 = 21\n",
            "3 x 8 = 24\n",
            "3 x 9 = 27\n",
            "3 x 10 = 30\n",
            "\n"
          ]
        }
      ]
    },
    {
      "cell_type": "code",
      "source": [
        "# Start from the number just above 100\n",
        "num = 104\n",
        "\n",
        "# Infinite loop until we find a prime\n",
        "while True:\n",
        "    is_prime = True\n",
        "\n",
        "    # Check for factors from 2 to sqrt(num)\n",
        "    for i in range(2, int(num ** 0.5) + 1):\n",
        "        if num % i == 0:\n",
        "            is_prime = False\n",
        "            break\n",
        "\n",
        "    if is_prime:\n",
        "        print(f\"✅ The first prime number greater than 100 is: {num}\")\n",
        "        break\n",
        "    else:\n",
        "        num += 1\n"
      ],
      "metadata": {
        "colab": {
          "base_uri": "https://localhost:8080/"
        },
        "id": "LRJSlzBYBX21",
        "outputId": "978d94ff-12da-4eb0-8010-79ef393f1abe"
      },
      "execution_count": 25,
      "outputs": [
        {
          "output_type": "stream",
          "name": "stdout",
          "text": [
            "✅ The first prime number greater than 100 is: 107\n"
          ]
        }
      ]
    },
    {
      "cell_type": "code",
      "source": [
        "# 🔁 for loop with else block — prints confirmation if loop completes without break\n",
        "\n",
        "numbers = [1, 3, 5, 7]\n",
        "\n",
        "for num in numbers:\n",
        "    print(f\"Processing number: {num}\")\n",
        "    if num == 8:\n",
        "        print(\"Found number 8 — breaking out of loop.\")\n",
        "        break\n",
        "else:\n",
        "    print(\"✅ All numbers processed without interruption.\")\n"
      ],
      "metadata": {
        "colab": {
          "base_uri": "https://localhost:8080/"
        },
        "id": "SLNY6_UkFlGE",
        "outputId": "0ac449ff-4311-428d-c542-984c94d2e498"
      },
      "execution_count": 27,
      "outputs": [
        {
          "output_type": "stream",
          "name": "stdout",
          "text": [
            "Processing number: 1\n",
            "Processing number: 3\n",
            "Processing number: 5\n",
            "Processing number: 7\n",
            "✅ All numbers processed without interruption.\n"
          ]
        }
      ]
    },
    {
      "cell_type": "code",
      "source": [
        "r = range(1000000)\n",
        "print(type(r))  # <class 'range'>\n"
      ],
      "metadata": {
        "colab": {
          "base_uri": "https://localhost:8080/"
        },
        "id": "4RgAW3s-H77Z",
        "outputId": "7064bdd5-9fef-42f1-b1b6-aa151dc3b62d"
      },
      "execution_count": 28,
      "outputs": [
        {
          "output_type": "stream",
          "name": "stdout",
          "text": [
            "<class 'range'>\n"
          ]
        }
      ]
    },
    {
      "cell_type": "code",
      "source": [
        "# Inefficient: creates a full list in memory\n",
        "numbers = list(range(1000000))\n"
      ],
      "metadata": {
        "id": "AffK25-iJjpT"
      },
      "execution_count": 30,
      "outputs": []
    },
    {
      "cell_type": "code",
      "source": [
        "# Efficient: generates numbers one at a time\n",
        "for i in range(1000000):\n",
        "    pass\n"
      ],
      "metadata": {
        "id": "m3enOioCJwDS"
      },
      "execution_count": 32,
      "outputs": []
    },
    {
      "cell_type": "code",
      "source": [
        "# Inefficient: creates a full list in memory\n",
        "numbers = list(range(1000000))\n"
      ],
      "metadata": {
        "id": "74pThGLMK4Jp"
      },
      "execution_count": 33,
      "outputs": []
    }
  ]
}