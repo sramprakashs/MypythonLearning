{
  "nbformat": 4,
  "nbformat_minor": 0,
  "metadata": {
    "colab": {
      "provenance": [],
      "authorship_tag": "ABX9TyPOBZERTsclya11pxNFc7cX",
      "include_colab_link": true
    },
    "kernelspec": {
      "name": "python3",
      "display_name": "Python 3"
    },
    "language_info": {
      "name": "python"
    }
  },
  "cells": [
    {
      "cell_type": "markdown",
      "metadata": {
        "id": "view-in-github",
        "colab_type": "text"
      },
      "source": [
        "<a href=\"https://colab.research.google.com/github/sramprakashs/MypythonLearning/blob/main/Python_Learning_Jul25_Aug25.ipynb\" target=\"_parent\"><img src=\"https://colab.research.google.com/assets/colab-badge.svg\" alt=\"Open In Colab\"/></a>"
      ]
    },
    {
      "cell_type": "code",
      "execution_count": null,
      "metadata": {
        "id": "KohNLTfoMxJi",
        "colab": {
          "base_uri": "https://localhost:8080/"
        },
        "outputId": "8f2aa0c7-63b2-430f-9652-1e220dc12d18"
      },
      "outputs": [
        {
          "output_type": "stream",
          "name": "stdout",
          "text": [
            "1\n"
          ]
        }
      ],
      "source": [
        "x=1\n",
        "print(x)"
      ]
    },
    {
      "cell_type": "code",
      "source": [
        "x='Ramprakash'\n",
        "print(x)"
      ],
      "metadata": {
        "id": "FsMDjtdjnsEE",
        "colab": {
          "base_uri": "https://localhost:8080/"
        },
        "outputId": "3de03cfd-abba-48f4-ae7f-61789dbf2b7b"
      },
      "execution_count": null,
      "outputs": [
        {
          "output_type": "stream",
          "name": "stdout",
          "text": [
            "Ramprakash\n"
          ]
        }
      ]
    },
    {
      "cell_type": "code",
      "source": [
        "x = y = \"4\"\n",
        "print(y)"
      ],
      "metadata": {
        "colab": {
          "base_uri": "https://localhost:8080/"
        },
        "id": "apluM65x14UN",
        "outputId": "f10bd651-1394-4e9f-9cc7-39298aa86a26"
      },
      "execution_count": null,
      "outputs": [
        {
          "output_type": "stream",
          "name": "stdout",
          "text": [
            "4\n"
          ]
        }
      ]
    },
    {
      "cell_type": "code",
      "source": [
        "cars = [\"Ford\", \"Volvo\", \"BMW\"]\n",
        "newcars=cars\n",
        "print(newcars)\n",
        "print(cars is newcars)"
      ],
      "metadata": {
        "colab": {
          "base_uri": "https://localhost:8080/"
        },
        "id": "BDjfeyMp2p5o",
        "outputId": "ea2fcc05-0cfb-4e02-9f85-dbf846a337e0"
      },
      "execution_count": null,
      "outputs": [
        {
          "output_type": "stream",
          "name": "stdout",
          "text": [
            "['Ford', 'Volvo', 'BMW']\n",
            "True\n"
          ]
        }
      ]
    },
    {
      "cell_type": "code",
      "source": [
        "fruits = [\"apple\", \"banana\", \"cherry\"]\n",
        "x = fruits.copy()\n",
        "print(x)"
      ],
      "metadata": {
        "colab": {
          "base_uri": "https://localhost:8080/"
        },
        "id": "JpXo04jS3jQP",
        "outputId": "0f59b486-a0e2-440c-c22e-26625ecc71b8"
      },
      "execution_count": null,
      "outputs": [
        {
          "output_type": "stream",
          "name": "stdout",
          "text": [
            "['apple', 'banana', 'cherry']\n"
          ]
        }
      ]
    },
    {
      "cell_type": "code",
      "source": [
        "fruits = [\"apple\", \"banana\", \"cherry\"]\n",
        "x = fruits.count(\"cherry\")\n",
        "print(x)"
      ],
      "metadata": {
        "colab": {
          "base_uri": "https://localhost:8080/"
        },
        "id": "t8xN_VBk4JEW",
        "outputId": "12b0d0a4-d746-4729-88a6-a0d285736bf9"
      },
      "execution_count": null,
      "outputs": [
        {
          "output_type": "stream",
          "name": "stdout",
          "text": [
            "1\n"
          ]
        }
      ]
    },
    {
      "cell_type": "code",
      "source": [
        "fruits = [\"apple\", \"banana\", \"cherry\"]\n",
        "cars = [\"Ford\", \"BMW\", \"Volvo\"]\n",
        "fruits.extend(cars)\n",
        "print(fruits)"
      ],
      "metadata": {
        "colab": {
          "base_uri": "https://localhost:8080/"
        },
        "id": "ppKzdali4Opf",
        "outputId": "93f02751-3267-4a01-d637-d9351a2d10ae"
      },
      "execution_count": null,
      "outputs": [
        {
          "output_type": "stream",
          "name": "stdout",
          "text": [
            "['apple', 'banana', 'cherry', 'Ford', 'BMW', 'Volvo']\n"
          ]
        }
      ]
    },
    {
      "cell_type": "code",
      "source": [
        "fruits.append(\"grape\")\n",
        "print(fruits)"
      ],
      "metadata": {
        "colab": {
          "base_uri": "https://localhost:8080/"
        },
        "id": "Awpbgbm64f_P",
        "outputId": "af9edb52-8bde-4cb7-ad59-5c5c77a2fb79"
      },
      "execution_count": null,
      "outputs": [
        {
          "output_type": "stream",
          "name": "stdout",
          "text": [
            "['apple', 'banana', 'cherry', 'Ford', 'BMW', 'Volvo', 'grape']\n"
          ]
        }
      ]
    },
    {
      "cell_type": "markdown",
      "source": [],
      "metadata": {
        "id": "AsrsWA6g7RuD"
      }
    },
    {
      "cell_type": "code",
      "source": [
        "print(fruits.index(\"grape\"))"
      ],
      "metadata": {
        "colab": {
          "base_uri": "https://localhost:8080/"
        },
        "id": "fCeTYmXx7nAi",
        "outputId": "09cb97f8-df96-40f7-d203-edeb4aebde2b"
      },
      "execution_count": null,
      "outputs": [
        {
          "output_type": "stream",
          "name": "stdout",
          "text": [
            "6\n"
          ]
        }
      ]
    },
    {
      "cell_type": "code",
      "source": [
        "print(fruits)"
      ],
      "metadata": {
        "colab": {
          "base_uri": "https://localhost:8080/"
        },
        "id": "6B6gZ5Yn7xmu",
        "outputId": "4e33c987-76e7-4541-b7dd-fe4c45cdd127"
      },
      "execution_count": null,
      "outputs": [
        {
          "output_type": "stream",
          "name": "stdout",
          "text": [
            "['apple', 'banana', 'cherry', 'Ford', 'BMW', 'Volvo', 'grape']\n"
          ]
        }
      ]
    },
    {
      "cell_type": "code",
      "source": [
        "fruits = [\"apple\", \"banana\", \"orange\"]\n",
        "print(fruits)"
      ],
      "metadata": {
        "colab": {
          "base_uri": "https://localhost:8080/"
        },
        "id": "rpX0WXES8iqH",
        "outputId": "a6614ecf-45c6-4502-db31-e3173d211b96"
      },
      "execution_count": null,
      "outputs": [
        {
          "output_type": "stream",
          "name": "stdout",
          "text": [
            "['apple', 'banana', 'orange']\n"
          ]
        }
      ]
    },
    {
      "cell_type": "code",
      "source": [
        "fruits.append(\"grape\")\n",
        "print(fruits)\n",
        "fruits.remove(\"orange\")\n",
        "print(fruits)"
      ],
      "metadata": {
        "colab": {
          "base_uri": "https://localhost:8080/"
        },
        "id": "Bh17mMFQEPB9",
        "outputId": "e7aa3cfc-5a4c-481e-a71a-8be34807c0b5"
      },
      "execution_count": null,
      "outputs": [
        {
          "output_type": "stream",
          "name": "stdout",
          "text": [
            "['apple', 'banana', 'orange', 'grape']\n",
            "['apple', 'banana', 'grape']\n"
          ]
        }
      ]
    },
    {
      "cell_type": "code",
      "source": [
        "fruits = [\"apple\", \"banana\", \"orange\"]\n",
        "new_fruits = fruits.copy()\n",
        "print(new_fruits)  # ['apple', 'banana', 'orange']"
      ],
      "metadata": {
        "colab": {
          "base_uri": "https://localhost:8080/"
        },
        "id": "-4S1I4WeEW_J",
        "outputId": "4991624a-bfe4-48b8-9acd-1f3d03c99b1b"
      },
      "execution_count": null,
      "outputs": [
        {
          "output_type": "stream",
          "name": "stdout",
          "text": [
            "['apple', 'banana', 'orange']\n"
          ]
        }
      ]
    },
    {
      "cell_type": "code",
      "source": [
        "print(fruits.count(\"apple\"))  # 1"
      ],
      "metadata": {
        "colab": {
          "base_uri": "https://localhost:8080/"
        },
        "id": "_D2PDEqhEdbO",
        "outputId": "c520c514-641f-48e6-fd1b-d78bd44d6e60"
      },
      "execution_count": null,
      "outputs": [
        {
          "output_type": "stream",
          "name": "stdout",
          "text": [
            "1\n"
          ]
        }
      ]
    },
    {
      "cell_type": "code",
      "source": [
        "fruits.extend([\"kiwi\", \"mango\"])\n",
        "print(fruits)  # ['apple', 'banana', 'kiwi', 'mango']"
      ],
      "metadata": {
        "colab": {
          "base_uri": "https://localhost:8080/"
        },
        "id": "yKyM2yIXEiFu",
        "outputId": "074ca0cf-3ad3-4625-9fee-030fe2908149"
      },
      "execution_count": null,
      "outputs": [
        {
          "output_type": "stream",
          "name": "stdout",
          "text": [
            "['apple', 'banana', 'orange', 'kiwi', 'mango', 'kiwi', 'mango']\n"
          ]
        }
      ]
    },
    {
      "cell_type": "code",
      "source": [
        "print(fruits.index(\"banana\"))  # 1"
      ],
      "metadata": {
        "colab": {
          "base_uri": "https://localhost:8080/"
        },
        "id": "bQcYp2YmEl0_",
        "outputId": "7b97c396-3123-455a-e9af-18c115983e21"
      },
      "execution_count": null,
      "outputs": [
        {
          "output_type": "stream",
          "name": "stdout",
          "text": [
            "1\n"
          ]
        }
      ]
    },
    {
      "cell_type": "code",
      "source": [
        "fruits.insert(1, \"cherry\")\n",
        "print(fruits)  # ['apple', 'cherry', 'banana', 'orange']"
      ],
      "metadata": {
        "colab": {
          "base_uri": "https://localhost:8080/"
        },
        "id": "j8NfJu8nEo7T",
        "outputId": "c3631e71-0204-47cd-e5d0-191a7bda49f9"
      },
      "execution_count": null,
      "outputs": [
        {
          "output_type": "stream",
          "name": "stdout",
          "text": [
            "['apple', 'cherry', 'banana', 'orange', 'kiwi', 'mango', 'kiwi', 'mango']\n"
          ]
        }
      ]
    },
    {
      "cell_type": "code",
      "source": [
        "last_item = fruits.pop()\n",
        "print(last_item)  # 'orange'\n",
        "print(fruits)     # ['apple', 'banana']\n"
      ],
      "metadata": {
        "colab": {
          "base_uri": "https://localhost:8080/"
        },
        "id": "danywokLF26W",
        "outputId": "8a03c145-1307-42e6-ffb7-29f362948a5a"
      },
      "execution_count": null,
      "outputs": [
        {
          "output_type": "stream",
          "name": "stdout",
          "text": [
            "mango\n",
            "['apple', 'cherry', 'banana', 'orange', 'kiwi', 'mango', 'kiwi']\n"
          ]
        }
      ]
    },
    {
      "cell_type": "code",
      "source": [
        "print(fruits)"
      ],
      "metadata": {
        "colab": {
          "base_uri": "https://localhost:8080/"
        },
        "id": "7uPMYZIjF9xq",
        "outputId": "cc1cf320-ebe9-4249-c7fb-032e787002ea"
      },
      "execution_count": null,
      "outputs": [
        {
          "output_type": "stream",
          "name": "stdout",
          "text": [
            "['apple', 'cherry', 'banana', 'orange', 'kiwi', 'mango', 'kiwi']\n"
          ]
        }
      ]
    },
    {
      "cell_type": "code",
      "source": [
        "fruits.append(\"mango\")\n",
        "print(fruits)"
      ],
      "metadata": {
        "colab": {
          "base_uri": "https://localhost:8080/"
        },
        "id": "s3QSxjMmGEBy",
        "outputId": "2ccf0878-25a4-4a44-dd11-d5bc5ddddd09"
      },
      "execution_count": null,
      "outputs": [
        {
          "output_type": "stream",
          "name": "stdout",
          "text": [
            "['apple', 'cherry', 'banana', 'orange', 'kiwi', 'mango', 'kiwi', 'mango']\n"
          ]
        }
      ]
    },
    {
      "cell_type": "code",
      "source": [
        "fruits.append(\"banana\")\n",
        "print(\"After appending \", fruits)\n",
        "fruits.remove(\"banana\")\n",
        "print(\"After removal \",fruits)  # ['apple', 'orange']\n"
      ],
      "metadata": {
        "colab": {
          "base_uri": "https://localhost:8080/"
        },
        "id": "C6dSrsOxGOdX",
        "outputId": "0701c43d-1400-4456-ef63-e93fa0d376a4"
      },
      "execution_count": null,
      "outputs": [
        {
          "output_type": "stream",
          "name": "stdout",
          "text": [
            "After appending  ['apple', 'cherry', 'orange', 'kiwi', 'mango', 'kiwi', 'mango', 'banana']\n",
            "After removal  ['apple', 'cherry', 'orange', 'kiwi', 'mango', 'kiwi', 'mango']\n"
          ]
        }
      ]
    },
    {
      "cell_type": "code",
      "source": [
        "fruits.reverse()\n",
        "print(fruits)"
      ],
      "metadata": {
        "colab": {
          "base_uri": "https://localhost:8080/"
        },
        "id": "i0C65vbfI9Za",
        "outputId": "7eafbf54-659c-4334-99a8-7c9ef8e98965"
      },
      "execution_count": null,
      "outputs": [
        {
          "output_type": "stream",
          "name": "stdout",
          "text": [
            "['mango', 'kiwi', 'mango', 'kiwi', 'orange', 'cherry', 'apple']\n"
          ]
        }
      ]
    },
    {
      "cell_type": "code",
      "source": [
        "fruits.sort()\n",
        "print(fruits)"
      ],
      "metadata": {
        "id": "NHqF28wJJDE0",
        "outputId": "205aaddf-59d6-45ba-804c-525d981b058e",
        "colab": {
          "base_uri": "https://localhost:8080/"
        }
      },
      "execution_count": null,
      "outputs": [
        {
          "output_type": "stream",
          "name": "stdout",
          "text": [
            "['apple', 'cherry', 'kiwi', 'kiwi', 'mango', 'mango', 'orange']\n"
          ]
        }
      ]
    },
    {
      "cell_type": "code",
      "source": [
        "name = \"Ramprakash\"\n",
        "print(name)"
      ],
      "metadata": {
        "colab": {
          "base_uri": "https://localhost:8080/"
        },
        "id": "Iah3l8lypbth",
        "outputId": "936567f8-fc54-4f6a-ff7a-f6ff24d4c9c8"
      },
      "execution_count": null,
      "outputs": [
        {
          "output_type": "stream",
          "name": "stdout",
          "text": [
            "Ramprakash\n"
          ]
        }
      ]
    },
    {
      "cell_type": "code",
      "source": [
        "x = 10\n",
        "y = 20\n",
        "\n",
        "if x > y:\n",
        "    print(\"x is greater than y\")\n",
        "elif x == y:\n",
        "    print(\"x is equal to y\")\n",
        "else:\n",
        "    print(\"x is less than y\")"
      ],
      "metadata": {
        "colab": {
          "base_uri": "https://localhost:8080/"
        },
        "id": "32GrHLbCvFP6",
        "outputId": "d9403d96-a135-4b2a-94f7-2c3e278d0ca5"
      },
      "execution_count": null,
      "outputs": [
        {
          "output_type": "stream",
          "name": "stdout",
          "text": [
            "x is less than y\n"
          ]
        }
      ]
    },
    {
      "cell_type": "code",
      "source": [
        "user_input = \"hello\"\n",
        "\n",
        "if user_input == \"hi\":\n",
        "    print(\"Hey there!\")\n",
        "elif user_input == \"hello\":\n",
        "    print(\"Hello, Ram! 👋\")\n",
        "elif user_input == \"hey\":\n",
        "    print(\"Hey! Good to see you.\")\n",
        "else:\n",
        "    print(\"I'm not sure what you meant, try saying 'hi' or 'hello'.\")\n"
      ],
      "metadata": {
        "colab": {
          "base_uri": "https://localhost:8080/"
        },
        "id": "W5iJxjB8wo8j",
        "outputId": "69603d25-4ed4-4c26-cfcf-3a786aac5280"
      },
      "execution_count": null,
      "outputs": [
        {
          "output_type": "stream",
          "name": "stdout",
          "text": [
            "Hello, Ram! 👋\n"
          ]
        }
      ]
    },
    {
      "cell_type": "code",
      "source": [
        "user_input = input(\"Say something: \")\n",
        "\n",
        "if user_input == \"hi\":\n",
        "    print(\"Hey there!\")\n",
        "    follow_up = input(\"Do you want to chat more? (yes/no): \")\n",
        "\n",
        "    if follow_up.lower() == \"yes\":\n",
        "        print(\"Glad you want to continue! 😊\")\n",
        "    else:\n",
        "        print(\"Alright, catch you later!\")"
      ],
      "metadata": {
        "colab": {
          "base_uri": "https://localhost:8080/"
        },
        "id": "_jX0rnpqxHC3",
        "outputId": "0c36e8c8-dba6-4009-da73-011de636e791"
      },
      "execution_count": null,
      "outputs": [
        {
          "output_type": "stream",
          "name": "stdout",
          "text": [
            "Say something: hi\n",
            "Hey there!\n",
            "Do you want to chat more? (yes/no): yes\n",
            "Glad you want to continue! 😊\n"
          ]
        }
      ]
    },
    {
      "cell_type": "code",
      "source": [
        "user_input = input(\"Say something: \")\n",
        "\n",
        "if user_input.lower() == \"hi\":\n",
        "    print(\"Hey there!\")\n",
        "\n",
        "    follow_up = input(\"Do you want to chat more? (yes/no): \")\n",
        "\n",
        "    if follow_up.lower() == \"yes\":\n",
        "        print(\"Glad you want to continue! 😊\")\n",
        "\n",
        "        mood = input(\"How are you feeling today? (happy/sad): \")\n",
        "\n",
        "        if mood.lower() == \"happy\":\n",
        "            print(\"That's awesome to hear! Keep smiling! 😄\")\n",
        "        elif mood.lower() == \"sad\":\n",
        "            print(\"I'm here for you. Hope things get better soon. 💙\")\n",
        "        else:\n",
        "            print(\"Hmm, that's an interesting emotion!\")\n",
        "\n",
        "    else:\n",
        "        print(\"No worries. Have a great day!\")\n",
        "\n",
        "else:\n",
        "    print(\"Try saying 'hi' to start the chat.\")\n"
      ],
      "metadata": {
        "colab": {
          "base_uri": "https://localhost:8080/"
        },
        "id": "pd2RxIXaxTN0",
        "outputId": "a625d478-971a-44d6-d695-084ed4023688"
      },
      "execution_count": null,
      "outputs": [
        {
          "output_type": "stream",
          "name": "stdout",
          "text": [
            "Say something: hi\n",
            "Hey there!\n",
            "Do you want to chat more? (yes/no): Yes\n",
            "Glad you want to continue! 😊\n",
            "How are you feeling today? (happy/sad): happy\n",
            "That's awesome to hear! Keep smiling! 😄\n"
          ]
        }
      ]
    },
    {
      "cell_type": "code",
      "source": [
        "light_on = True\n",
        "\n",
        "if light_on:\n",
        "    print(\"The light is on 💡\")\n",
        "elif not light_on:\n",
        "    print(\"The light is off 🕯️\")\n",
        "else:\n",
        "    print(\"Can't determine light status.\")"
      ],
      "metadata": {
        "colab": {
          "base_uri": "https://localhost:8080/"
        },
        "id": "5oe4da--y2Ru",
        "outputId": "0f1be6a4-76d3-4b22-d111-cbe20022f474"
      },
      "execution_count": null,
      "outputs": [
        {
          "output_type": "stream",
          "name": "stdout",
          "text": [
            "The light is on 💡\n"
          ]
        }
      ]
    },
    {
      "cell_type": "code",
      "source": [
        "# Ask the user about the light status\n",
        "light_status = input(\"Is the light on? (yes/no): \")\n",
        "\n",
        "# Normalize the input\n",
        "light_on = light_status.strip().lower() == \"yes\"\n",
        "\n",
        "# Conditional logic\n",
        "if light_on:\n",
        "    print(\"The light is on 💡\")\n",
        "else:\n",
        "    print(\"The light is off 🕯️\")\n"
      ],
      "metadata": {
        "colab": {
          "base_uri": "https://localhost:8080/"
        },
        "id": "OCwXgwxQ0E0M",
        "outputId": "d8d69ebe-0035-403e-eb5f-7826cf555d8f"
      },
      "execution_count": null,
      "outputs": [
        {
          "output_type": "stream",
          "name": "stdout",
          "text": [
            "Is the light on? (yes/no): one\n",
            "The light is off 🕯️\n"
          ]
        }
      ]
    },
    {
      "cell_type": "code",
      "source": [
        "# A tuple with a person's name and age\n",
        "person = (\"Ram\", 25)\n",
        "\n",
        "# Check if age is above 18\n",
        "if person[1] > 18:\n",
        "    print(f\"{person[0]} is an adult.\")\n",
        "else:\n",
        "    print(f\"{person[0]} is a minor.\")\n"
      ],
      "metadata": {
        "colab": {
          "base_uri": "https://localhost:8080/"
        },
        "id": "zl1A4Y3S5Ik8",
        "outputId": "e8d7481d-dd53-4319-c0d0-3ce447deca2e"
      },
      "execution_count": null,
      "outputs": [
        {
          "output_type": "stream",
          "name": "stdout",
          "text": [
            "Ram is an adult.\n"
          ]
        }
      ]
    },
    {
      "cell_type": "code",
      "source": [
        "available_fruits = {\"apple\", \"banana\", \"orange\"}\n",
        "\n",
        "if \"apple\" in available_fruits:\n",
        "    print(\"🍎 Apple is available!\")\n",
        "elif \"banana\" in available_fruits:\n",
        "    print(\"🍌 Banana is available!\")\n",
        "else:\n",
        "    print(\"No apples or bananas in stock.\")\n"
      ],
      "metadata": {
        "colab": {
          "base_uri": "https://localhost:8080/"
        },
        "id": "A1U0nihZ5cqo",
        "outputId": "f4fd478f-61b1-4e95-e815-74cbb4a9dc63"
      },
      "execution_count": null,
      "outputs": [
        {
          "output_type": "stream",
          "name": "stdout",
          "text": [
            "🍎 Apple is available!\n"
          ]
        }
      ]
    },
    {
      "cell_type": "code",
      "source": [
        "available_fruits = [\"apple\", \"banana\", \"orange\"]\n",
        "\n",
        "# Check if the second item is \"banana\"\n",
        "if available_fruits[1] == \"banana\":\n",
        "    print(\"🍌 Second fruit is banana!\")\n",
        "else:\n",
        "    print(\"Second fruit is not banana.\")\n"
      ],
      "metadata": {
        "id": "RcIE0aLR6Ob5",
        "outputId": "9c44775a-1415-4ee6-86f0-c5d838e2c4ef",
        "colab": {
          "base_uri": "https://localhost:8080/"
        }
      },
      "execution_count": null,
      "outputs": [
        {
          "output_type": "stream",
          "name": "stdout",
          "text": [
            "🍌 Second fruit is banana!\n"
          ]
        }
      ]
    },
    {
      "cell_type": "code",
      "source": [
        "import random\n",
        "\n",
        "# Generate a random number between 1 and 100\n",
        "secret_number = random.randint(1, 100)\n",
        "attempts = 0\n",
        "\n",
        "print(\"Welcome to the Number Guessing Game!\")\n",
        "print(\"I'm thinking of a number between 1 and 100.\")\n",
        "\n",
        "while True:\n",
        "    guess = int(input(\"Enter your guess: \"))\n",
        "    attempts += 1\n",
        "\n",
        "    if guess == secret_number:\n",
        "        print(f\"🎉 Correct! You guessed it in {attempts} attempts.\")\n",
        "        break\n",
        "    elif guess < secret_number:\n",
        "        print(\"Too low. Try again!\")\n",
        "    else:\n",
        "        print(\"Too high. Try again!\")\n"
      ],
      "metadata": {
        "colab": {
          "base_uri": "https://localhost:8080/",
          "height": 805
        },
        "id": "KiVpGAJ7Lji2",
        "outputId": "3c837379-2b1e-47ce-e3a3-84ada651cd06"
      },
      "execution_count": 18,
      "outputs": [
        {
          "output_type": "stream",
          "name": "stdout",
          "text": [
            "Welcome to the Number Guessing Game!\n",
            "I'm thinking of a number between 1 and 100.\n",
            "Enter your guess: 7\n",
            "Too low. Try again!\n",
            "Enter your guess: 1\n",
            "Too low. Try again!\n",
            "Enter your guess: 3\n",
            "Too low. Try again!\n",
            "Enter your guess: 2\n",
            "Too low. Try again!\n",
            "Enter your guess: 4\n",
            "Too low. Try again!\n",
            "Enter your guess: 5\n",
            "Too low. Try again!\n",
            "Enter your guess: 6\n",
            "Too low. Try again!\n",
            "Enter your guess: 7\n",
            "Too low. Try again!\n",
            "Enter your guess: 8\n",
            "Too low. Try again!\n",
            "Enter your guess: 9\n",
            "Too low. Try again!\n",
            "Enter your guess: 10\n",
            "Too low. Try again!\n"
          ]
        },
        {
          "output_type": "error",
          "ename": "KeyboardInterrupt",
          "evalue": "Interrupted by user",
          "traceback": [
            "\u001b[0;31m---------------------------------------------------------------------------\u001b[0m",
            "\u001b[0;31mKeyboardInterrupt\u001b[0m                         Traceback (most recent call last)",
            "\u001b[0;32m/tmp/ipython-input-18-2209093017.py\u001b[0m in \u001b[0;36m<cell line: 0>\u001b[0;34m()\u001b[0m\n\u001b[1;32m      9\u001b[0m \u001b[0;34m\u001b[0m\u001b[0m\n\u001b[1;32m     10\u001b[0m \u001b[0;32mwhile\u001b[0m \u001b[0;32mTrue\u001b[0m\u001b[0;34m:\u001b[0m\u001b[0;34m\u001b[0m\u001b[0;34m\u001b[0m\u001b[0m\n\u001b[0;32m---> 11\u001b[0;31m     \u001b[0mguess\u001b[0m \u001b[0;34m=\u001b[0m \u001b[0mint\u001b[0m\u001b[0;34m(\u001b[0m\u001b[0minput\u001b[0m\u001b[0;34m(\u001b[0m\u001b[0;34m\"Enter your guess: \"\u001b[0m\u001b[0;34m)\u001b[0m\u001b[0;34m)\u001b[0m\u001b[0;34m\u001b[0m\u001b[0;34m\u001b[0m\u001b[0m\n\u001b[0m\u001b[1;32m     12\u001b[0m     \u001b[0mattempts\u001b[0m \u001b[0;34m+=\u001b[0m \u001b[0;36m1\u001b[0m\u001b[0;34m\u001b[0m\u001b[0;34m\u001b[0m\u001b[0m\n\u001b[1;32m     13\u001b[0m \u001b[0;34m\u001b[0m\u001b[0m\n",
            "\u001b[0;32m/usr/local/lib/python3.11/dist-packages/ipykernel/kernelbase.py\u001b[0m in \u001b[0;36mraw_input\u001b[0;34m(self, prompt)\u001b[0m\n\u001b[1;32m   1175\u001b[0m                 \u001b[0;34m\"raw_input was called, but this frontend does not support input requests.\"\u001b[0m\u001b[0;34m\u001b[0m\u001b[0;34m\u001b[0m\u001b[0m\n\u001b[1;32m   1176\u001b[0m             )\n\u001b[0;32m-> 1177\u001b[0;31m         return self._input_request(\n\u001b[0m\u001b[1;32m   1178\u001b[0m             \u001b[0mstr\u001b[0m\u001b[0;34m(\u001b[0m\u001b[0mprompt\u001b[0m\u001b[0;34m)\u001b[0m\u001b[0;34m,\u001b[0m\u001b[0;34m\u001b[0m\u001b[0;34m\u001b[0m\u001b[0m\n\u001b[1;32m   1179\u001b[0m             \u001b[0mself\u001b[0m\u001b[0;34m.\u001b[0m\u001b[0m_parent_ident\u001b[0m\u001b[0;34m[\u001b[0m\u001b[0;34m\"shell\"\u001b[0m\u001b[0;34m]\u001b[0m\u001b[0;34m,\u001b[0m\u001b[0;34m\u001b[0m\u001b[0;34m\u001b[0m\u001b[0m\n",
            "\u001b[0;32m/usr/local/lib/python3.11/dist-packages/ipykernel/kernelbase.py\u001b[0m in \u001b[0;36m_input_request\u001b[0;34m(self, prompt, ident, parent, password)\u001b[0m\n\u001b[1;32m   1217\u001b[0m             \u001b[0;32mexcept\u001b[0m \u001b[0mKeyboardInterrupt\u001b[0m\u001b[0;34m:\u001b[0m\u001b[0;34m\u001b[0m\u001b[0;34m\u001b[0m\u001b[0m\n\u001b[1;32m   1218\u001b[0m                 \u001b[0;31m# re-raise KeyboardInterrupt, to truncate traceback\u001b[0m\u001b[0;34m\u001b[0m\u001b[0;34m\u001b[0m\u001b[0m\n\u001b[0;32m-> 1219\u001b[0;31m                 \u001b[0;32mraise\u001b[0m \u001b[0mKeyboardInterrupt\u001b[0m\u001b[0;34m(\u001b[0m\u001b[0;34m\"Interrupted by user\"\u001b[0m\u001b[0;34m)\u001b[0m \u001b[0;32mfrom\u001b[0m \u001b[0;32mNone\u001b[0m\u001b[0;34m\u001b[0m\u001b[0;34m\u001b[0m\u001b[0m\n\u001b[0m\u001b[1;32m   1220\u001b[0m             \u001b[0;32mexcept\u001b[0m \u001b[0mException\u001b[0m\u001b[0;34m:\u001b[0m\u001b[0;34m\u001b[0m\u001b[0;34m\u001b[0m\u001b[0m\n\u001b[1;32m   1221\u001b[0m                 \u001b[0mself\u001b[0m\u001b[0;34m.\u001b[0m\u001b[0mlog\u001b[0m\u001b[0;34m.\u001b[0m\u001b[0mwarning\u001b[0m\u001b[0;34m(\u001b[0m\u001b[0;34m\"Invalid Message:\"\u001b[0m\u001b[0;34m,\u001b[0m \u001b[0mexc_info\u001b[0m\u001b[0;34m=\u001b[0m\u001b[0;32mTrue\u001b[0m\u001b[0;34m)\u001b[0m\u001b[0;34m\u001b[0m\u001b[0;34m\u001b[0m\u001b[0m\n",
            "\u001b[0;31mKeyboardInterrupt\u001b[0m: Interrupted by user"
          ]
        }
      ]
    },
    {
      "cell_type": "code",
      "source": [
        "import random\n",
        "\n",
        "# Generate a random number between 1 and 100\n",
        "secret_number = random.randint(1, 100)\n",
        "attempts = 0\n",
        "\n",
        "print(\"Welcome to the Number Guessing Game!\")\n",
        "print(\"I'm thinking of a number between 1 and 100.\")\n",
        "\n",
        "# Ask the user how many tries they want\n",
        "max_attempts = int(input(\"How many attempts would you like? \"))\n",
        "\n",
        "# Start the guessing loop\n",
        "while attempts < max_attempts:\n",
        "    guess = int(input(\"Enter your guess: \"))\n",
        "    attempts += 1\n",
        "\n",
        "    if guess == secret_number:\n",
        "        print(f\"🎉 Correct! You guessed it in {attempts} attempts.\")\n",
        "        break\n",
        "    elif guess < secret_number:\n",
        "        print(\"Too low. Try again!\")\n",
        "    else:\n",
        "        print(\"Too high. Try again!\")\n",
        "\n",
        "# If all attempts used and number not guessed\n",
        "if attempts == max_attempts and guess != secret_number:\n",
        "    print(f\"❌ You failed to guess the number within {max_attempts} tries.\")\n",
        "    print(f\"The correct number was {secret_number}.\")\n"
      ],
      "metadata": {
        "colab": {
          "base_uri": "https://localhost:8080/"
        },
        "id": "XLdH3xTOMpRh",
        "outputId": "034223f6-f274-436a-b31f-8f36dd5594c7"
      },
      "execution_count": 19,
      "outputs": [
        {
          "output_type": "stream",
          "name": "stdout",
          "text": [
            "Welcome to the Number Guessing Game!\n",
            "I'm thinking of a number between 1 and 100.\n",
            "How many attempts would you like? 2\n",
            "Enter your guess: 3\n",
            "Too low. Try again!\n",
            "Enter your guess: 6\n",
            "Too low. Try again!\n",
            "❌ You failed to guess the number within 2 tries.\n",
            "The correct number was 98.\n"
          ]
        }
      ]
    }
  ]
}